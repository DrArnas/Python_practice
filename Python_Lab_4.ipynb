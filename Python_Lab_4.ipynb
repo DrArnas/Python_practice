{
  "cells": [
    {
      "cell_type": "markdown",
      "id": "9661feed",
      "metadata": {
        "id": "9661feed"
      },
      "source": [
        "## Programavimo įvado pratybos\n",
        "\n",
        "- Python komandoms prisiminti: ``https://www.w3schools.com/python/``\n",
        "- Komentarai: #\n",
        "- Naudingos Powershell komandos:\n",
        "\n",
        "    - `ls` - pažiūrėti katalogo turinį\n",
        "\n",
        "    - `md` - sukurti naują katalogą\n",
        "\n",
        "    - `cd` - pereiti į katalogą / iš katalogo\n",
        "\n",
        "    - `ni p4.py` - sukuria naują bylą vardu `p4.py`\n",
        "\n",
        "    - `python p4.py` - kompiliuoja Python programą"
      ]
    },
    {
      "cell_type": "markdown",
      "source": [
        "Programose dažnai naudojamos sąlygos, pvz. ar atidarytas failas nėra tuščias, ar kažkoks nuskaitytas skaičius tenkina mūsų sąlygą ir pan. Toks patikrinimas visuomet atliekamas `if / else` pagalba (jeigu / arba)."
      ],
      "metadata": {
        "id": "KFh4tcit3B5M"
      },
      "id": "KFh4tcit3B5M"
    },
    {
      "cell_type": "code",
      "source": [
        "skaicius = 0\n",
        "\n",
        "if skaicius > 0:\n",
        "  print (f\"Skaicius {skaicius} yra teigiamas\")\n",
        "else:\n",
        "  print (f\"Skaicius {skaicius} yra neigiamas\")"
      ],
      "metadata": {
        "id": "yksjRilr3U8k",
        "outputId": "1b2460a9-aca6-478f-f4f4-051d4b05dc3f",
        "colab": {
          "base_uri": "https://localhost:8080/"
        }
      },
      "id": "yksjRilr3U8k",
      "execution_count": 6,
      "outputs": [
        {
          "output_type": "stream",
          "name": "stdout",
          "text": [
            "Skaicius 0 yra neigiamas\n"
          ]
        }
      ]
    },
    {
      "cell_type": "markdown",
      "source": [
        "Pabandykite viršuje esančiame kode įvesti, kad skaičius lygus 0. Jis įvertinamas kaip neigiamas, nes 0 nėra daugiau už 0."
      ],
      "metadata": {
        "id": "wFJR8u8O6wl3"
      },
      "id": "wFJR8u8O6wl3"
    },
    {
      "cell_type": "markdown",
      "source": [
        "Papildomas sąlygas galime pridėti `elif` komanda. Pirma patikrinama ar skaičius lygus nuliui - jei taip - tai nėra nei teigiamas, nei neigiamas. Jei skaičius nėra lygus nuliui, einame prie kitos sąlygos - ar jis daugiau už nulį, jei taip - jis yra teigiamas, jei ne (`else`) jis yra neigiamas.\n",
        "\n",
        "`else` kodas vykdomas tik tuo atveju, jeigu netenkinama jokia aukščiau pateikta sąlyga."
      ],
      "metadata": {
        "id": "87MwB3nu6COH"
      },
      "id": "87MwB3nu6COH"
    },
    {
      "cell_type": "code",
      "source": [
        "skaicius = int(input(\"Iveskite skaiciu: \"))\n",
        "\n",
        "if skaicius == 0:\n",
        "  print (f\"Skaicius {skaicius} nera nei teigiamas nei neigiamas\")\n",
        "elif skaicius > 0:\n",
        "  print (f\"Skaicius {skaicius} yra teigiamas\")\n",
        "else:\n",
        "  print (f\"Skaicius {skaicius} yra neigiamas\")"
      ],
      "metadata": {
        "id": "qKikD_gc6OAa"
      },
      "id": "qKikD_gc6OAa",
      "execution_count": null,
      "outputs": []
    },
    {
      "cell_type": "markdown",
      "source": [
        "Taip galime tikrinti betkokį kintamąjį. Pvz. ar kažkoks žodis yra tekste, ar kažkoks įrašas žodyne ir pan."
      ],
      "metadata": {
        "id": "ZEsqDzIy7mbz"
      },
      "id": "ZEsqDzIy7mbz"
    },
    {
      "cell_type": "code",
      "source": [
        "tekstas = \"Programa visuomet darys tai, ka jus jai liepsite, bet nebutinai tai, ko jus norite.\"\n",
        "\n",
        "if \"Programa\" in tekstas:\n",
        "  print (\"Tekste yra žodis 'Programa'\")"
      ],
      "metadata": {
        "id": "Ii6OuYi78U2N"
      },
      "id": "Ii6OuYi78U2N",
      "execution_count": null,
      "outputs": []
    },
    {
      "cell_type": "code",
      "source": [
        "studentai = [\"Alisa\", \"Benas\", \"Darius\", \"Emilija\"]\n",
        "\n",
        "vardas = input (\"Koks jūsų vardas? \")\n",
        "\n",
        "if vardas in studentai:\n",
        "  print (f\"{vardas} tikrai yra šioje grupėje\")\n",
        "else:\n",
        "  print (f\"Studento vardu {vardas} šioje grupėje nėra\")"
      ],
      "metadata": {
        "id": "FzbqyxxD8tIR"
      },
      "id": "FzbqyxxD8tIR",
      "execution_count": null,
      "outputs": []
    },
    {
      "cell_type": "markdown",
      "source": [
        "Patobulinkite kodą viršuje, pridėdami į sąrašą įvestą vardą, jeigu jo jame nebuvo, ir atspausdinkite naująjį sąrašą. Pasinaudokite `.append()` metodu."
      ],
      "metadata": {
        "id": "Q_09221F9Pau"
      },
      "id": "Q_09221F9Pau"
    },
    {
      "cell_type": "markdown",
      "source": [],
      "metadata": {
        "id": "JJvm8nDcA1rU"
      },
      "id": "JJvm8nDcA1rU"
    },
    {
      "cell_type": "markdown",
      "source": [
        "______________________________________________________________________________"
      ],
      "metadata": {
        "id": "YdkxzwFXAxqU"
      },
      "id": "YdkxzwFXAxqU"
    },
    {
      "cell_type": "markdown",
      "id": "b7591613",
      "metadata": {
        "id": "b7591613"
      },
      "source": [
        "## A užduotis"
      ]
    },
    {
      "cell_type": "markdown",
      "id": "3f5df523",
      "metadata": {
        "heading_collapsed": true,
        "id": "3f5df523"
      },
      "source": [
        "### A1\n",
        "\n",
        "Paprašykite įvesti žodį turintį ne mažiau nei 10 raidžių. Patikrinkite, ar įvestas žodis turi bent dešimt raidžių.\n",
        "\n",
        "Pavyzdžiui, įvedus žodį “Integralas”, programa turi atspausdinti “Žodyje 'Integralas' yra nemažiau nei 10 raidžių”."
      ]
    },
    {
      "cell_type": "code",
      "execution_count": null,
      "id": "8aeef7a1",
      "metadata": {
        "hidden": true,
        "id": "8aeef7a1"
      },
      "outputs": [],
      "source": []
    },
    {
      "cell_type": "markdown",
      "id": "74007c71",
      "metadata": {
        "heading_collapsed": true,
        "id": "74007c71"
      },
      "source": [
        "### A2\n",
        "\n",
        "Išskaidykite žodį į sąrašą (list) ir atspausdinkite kiekvieną sąrašo elementą su tarpais vienoje eilutėje panaudodami for ciklą.\n",
        "\n",
        "Pavyzdžiui, 1-oje užduotyje įvedus žodį “Integralas”, programa turi atspausdinti “I n t e g r a l a s”.\n",
        "\n",
        "Užuomina. Išbandykite ``print('Jonas', end=' ')`` ir ``print('Jonas', end='\\n')``"
      ]
    },
    {
      "cell_type": "code",
      "execution_count": null,
      "id": "7530fc89",
      "metadata": {
        "hidden": true,
        "id": "7530fc89"
      },
      "outputs": [],
      "source": []
    },
    {
      "cell_type": "markdown",
      "id": "9edec4d2",
      "metadata": {
        "heading_collapsed": true,
        "id": "9edec4d2"
      },
      "source": [
        "### A3\n",
        "\n",
        "Paprašykite įvesti dviženklį skaičių (kuris būtų ne didesnis nei prieš tai įvesto žodžio raidžių skaičius) ir raidę. Tada pakeiskite 2-os užduoties sąrašo x-tąjį elementąduotąja raide.\n",
        "\n",
        "Pavyzdžiui, jei sąrašas yra [\"I\",\"n\",\"t\",\"e\",\"g\",\"r\",\"a\",\"l\",\"a\",\"s\"], įvedus 3 ir “W”, programa turi atspausdinti “InWegralas”.\n",
        "\n",
        "Užuomina. Pirmiausia turite suskaičiuoti kiek žodyje/sąraše raidžių, ir gautą vertę pateikti užklausoje. Pvz. \"Pateiktame sąraše yra X raidžių. Kurią raidę norite pakeisti?\"."
      ]
    },
    {
      "cell_type": "code",
      "execution_count": null,
      "id": "e03a2512",
      "metadata": {
        "hidden": true,
        "id": "e03a2512"
      },
      "outputs": [],
      "source": []
    },
    {
      "cell_type": "markdown",
      "id": "a38924b4",
      "metadata": {
        "heading_collapsed": true,
        "id": "a38924b4"
      },
      "source": [
        "### A4\n",
        "\n",
        "Sujunkite 3-ioje užduotyje gauto sąrašo elementus į žodį atskirdami raides brūkšneliu (ar kokiu kitu simboliu). Rezultatą atspausdinkite.\n",
        "\n",
        "Pavyzdžiui, jei sąrašas yra [\"I\",\"n\",\"W\",\"e\",\"g\",\"r\",\"a\",\"l\",\"a\",\"s\"], programa turi atspausdinti “I-n-W-e-g-r-a-l-a-s”.\n",
        "\n",
        "Užuomina. Naudokite .join() metodą."
      ]
    },
    {
      "cell_type": "code",
      "execution_count": null,
      "id": "48891221",
      "metadata": {
        "hidden": true,
        "id": "48891221"
      },
      "outputs": [],
      "source": []
    },
    {
      "cell_type": "markdown",
      "id": "86784548",
      "metadata": {
        "heading_collapsed": true,
        "id": "86784548"
      },
      "source": [
        "### A5\n",
        "\n",
        "Suraskite visus skaičius nuo 1 iki 100 kurie:\n",
        "\n",
        "    a) dalijasi iš 3 ir iš 4,\n",
        "    b) dalijasi iš 3 bet nesidalija iš 4,\n",
        "    c) dalijasi iš 3 arba 5, bet nesidalija iš 4.\n",
        "\n",
        "Sudėkite surastus skaičius į tris atskirus sąrašus (`list`): `sarasas_a`, `sarasas_b`, `sarasas_c`. Gautus rezultatus atspausdinkite kartu su paaiškinimais.  \n",
        "\n",
        "Užuomina. Galite rašyti tris atskirus `for` ciklus kiekvienam atvejui, arba vieną `for` ciklą su keliomis `if` sąlygomis.\n",
        "\n",
        "Išbandykite šitą kodą:"
      ]
    },
    {
      "cell_type": "code",
      "source": [
        "sarasas_a = []\n",
        "sarasas_a.append(\"naujas elementas\")\n",
        "print(sarasas_a)"
      ],
      "metadata": {
        "id": "5JdgtYGlABj2"
      },
      "id": "5JdgtYGlABj2",
      "execution_count": null,
      "outputs": []
    },
    {
      "cell_type": "code",
      "execution_count": null,
      "id": "7487e919",
      "metadata": {
        "hidden": true,
        "id": "7487e919"
      },
      "outputs": [],
      "source": []
    },
    {
      "cell_type": "markdown",
      "id": "5465b090",
      "metadata": {
        "heading_collapsed": true,
        "id": "5465b090"
      },
      "source": [
        "### A6\n",
        "\n",
        "Raskite pirmuosius 20 geometrinės progresijos narių, kai pradinis narys yra 1, o daugiklis yra 2:\n",
        "\n",
        "1, 2, 4, 8, 16, 32, 64, ...\n",
        "\n",
        "Sudėkite juos į sąrašą ir atspausdinkite."
      ]
    },
    {
      "cell_type": "code",
      "execution_count": null,
      "id": "f5708372",
      "metadata": {
        "hidden": true,
        "id": "f5708372"
      },
      "outputs": [],
      "source": []
    },
    {
      "cell_type": "markdown",
      "id": "3e200bab",
      "metadata": {
        "heading_collapsed": true,
        "id": "3e200bab"
      },
      "source": [
        "### A7\n",
        "\n",
        "Susumuokite 6-oje užduotyje surastus geometrinės progresijos narius pasinaudodami `for` ciklu. Rezultatą atspausdinkite."
      ]
    },
    {
      "cell_type": "code",
      "execution_count": null,
      "id": "4f666dc0",
      "metadata": {
        "hidden": true,
        "id": "4f666dc0"
      },
      "outputs": [],
      "source": []
    },
    {
      "cell_type": "markdown",
      "id": "f2eb3981",
      "metadata": {
        "heading_collapsed": true,
        "id": "f2eb3981"
      },
      "source": [
        "### A8\n",
        "\n",
        "Paprašykite įvesti sakinį sudarytą iš ne mažiau nei trijų žodžių. Suskaičiuokite:  \n",
        "\n",
        "    a) kiek žodžių yra sakinyje,\n",
        "    b) kiek balsių yra sakinyje,\n",
        "    c) kiek priebalsių yra sakinyje.\n",
        "\n",
        "Gautus rezultatus atspausdinkite kartu su paaiškinimais.\n",
        "\n",
        "*Užuomina.* Išbandykite šitą kodą:\n"
      ]
    },
    {
      "cell_type": "code",
      "source": [
        "skaiciai = \"1234567890\"\n",
        "zodis = input(\"Įveskite žodį sudarytą iš raidžių ir skaičių: \")\n",
        "for x in skaiciai:\n",
        "\tif x in zodis:\n",
        "\t\tprint(f\"skaičius {x} yra jūsų žodyje\")"
      ],
      "metadata": {
        "id": "pUU2wwqL_9cT"
      },
      "id": "pUU2wwqL_9cT",
      "execution_count": null,
      "outputs": []
    },
    {
      "cell_type": "code",
      "execution_count": null,
      "id": "dda2ee88",
      "metadata": {
        "hidden": true,
        "id": "dda2ee88"
      },
      "outputs": [],
      "source": [
        "sakinys = input(\"Iveskite sakinį: \")\n",
        "\n",
        "#Jūsų kodas toliau:"
      ]
    },
    {
      "cell_type": "code",
      "execution_count": null,
      "id": "7432a516",
      "metadata": {
        "hidden": true,
        "id": "7432a516"
      },
      "outputs": [],
      "source": []
    },
    {
      "cell_type": "markdown",
      "id": "10e48411",
      "metadata": {
        "heading_collapsed": true,
        "id": "10e48411"
      },
      "source": [
        "### A9\n",
        "\n",
        "Raskite matavimų sąrašo:\n",
        "\n",
        "    a) vidurkį,\n",
        "    b) medianą,  \n",
        "    c) standartinį nuokrypį,\n",
        "\n",
        "Gautus rezultatus atspausdinkite kartu su paaiškinimais.\n",
        "\n",
        "Priminimas:\n",
        "\n",
        "$\\sigma_x = \\sqrt{\\dfrac{\\sum_i (x_i - \\bar x)^2}{n}}\\quad$  kur  $\\quad\\bar x = \\dfrac1n \\sum_i x_i $"
      ]
    },
    {
      "cell_type": "code",
      "execution_count": null,
      "id": "30339081",
      "metadata": {
        "hidden": true,
        "id": "30339081"
      },
      "outputs": [],
      "source": [
        "matavimai = [17.5, 18.7, 18.8, 20.4, 23.4, 19.7, 16.0, 16.6, 16.7, 17.4, 18.9, 21.1, 21.4, 21.9, 23.8, 24.3, 23.8, 24.6, 24.3, 19.8, 19.8, 22.1, 23.4, 24.6, 23.8, 20.3, 23.9, 22.4, 21.3, 17.7, 14.4]\n",
        "\n",
        "# Jūsų kodas toliau:\n"
      ]
    },
    {
      "cell_type": "markdown",
      "id": "4273a46e",
      "metadata": {
        "id": "4273a46e"
      },
      "source": [
        "## B užduotis"
      ]
    },
    {
      "cell_type": "markdown",
      "id": "1b300a24",
      "metadata": {
        "heading_collapsed": true,
        "id": "1b300a24"
      },
      "source": [
        "### B1\n",
        "\n",
        "Raskite pirmuosius 20 Fibonači sekos narių:  \n",
        "\n",
        "0, 1, 1, 2, 3, 5, 8, 13, 21, 34, 55, 89, 144, ...\n",
        "\n",
        "Sudėkite juos į sąrašą ir atspausdinkite kartu su paaiškinimu.\n",
        "\n",
        "Paaiškinimas. Fibonačio sekos kiekvienas narys lygus prieš jį buvusių dviejų narių sumai."
      ]
    },
    {
      "cell_type": "code",
      "execution_count": null,
      "id": "bb226513",
      "metadata": {
        "hidden": true,
        "id": "bb226513"
      },
      "outputs": [],
      "source": []
    },
    {
      "cell_type": "markdown",
      "id": "5f6bf0f3",
      "metadata": {
        "heading_collapsed": true,
        "id": "5f6bf0f3"
      },
      "source": [
        "### B2\n",
        "\n",
        "Skaičiaus $\\pi$ vertę galima apskaičiuoti pasinaudojant Nilakantha seka:\n",
        "\n",
        "$\n",
        "\\pi = 3 + \\dfrac{4}{2\\times3\\times4} -  \\dfrac{4}{4\\times5\\times6} +  \\dfrac{4}{6\\times7\\times8} - \\dfrac{4}{8\\times9\\times10} + \\ldots\n",
        "$\n",
        "\n",
        "Apskaičiuokite $\\pi$ vertę susumuodami:\n",
        "\n",
        "- pirmus 10 sekos narių,\n",
        "- pirmus 100 sekos narių,\n",
        "- pirmus 10000 sekos narių.\n",
        "\n",
        "\n",
        "Rezultatus atspausdinkite."
      ]
    },
    {
      "cell_type": "code",
      "execution_count": null,
      "id": "def1b4f5",
      "metadata": {
        "hidden": true,
        "id": "def1b4f5"
      },
      "outputs": [],
      "source": []
    },
    {
      "cell_type": "markdown",
      "id": "0d3e1f2b",
      "metadata": {
        "heading_collapsed": true,
        "id": "0d3e1f2b"
      },
      "source": [
        "## Sandbox"
      ]
    },
    {
      "cell_type": "code",
      "execution_count": null,
      "id": "604147f0",
      "metadata": {
        "hidden": true,
        "id": "604147f0"
      },
      "outputs": [],
      "source": []
    }
  ],
  "metadata": {
    "kernelspec": {
      "display_name": "Python 3",
      "name": "python3"
    },
    "language_info": {
      "codemirror_mode": {
        "name": "ipython",
        "version": 3
      },
      "file_extension": ".py",
      "mimetype": "text/x-python",
      "name": "python",
      "nbconvert_exporter": "python",
      "pygments_lexer": "ipython3",
      "version": "3.11.7"
    },
    "latex_envs": {
      "LaTeX_envs_menu_present": true,
      "autoclose": false,
      "autocomplete": true,
      "bibliofile": "biblio.bib",
      "cite_by": "apalike",
      "current_citInitial": 1,
      "eqLabelWithNumbers": true,
      "eqNumInitial": 1,
      "hotkeys": {
        "equation": "Ctrl-E",
        "itemize": "Ctrl-I"
      },
      "labels_anchors": false,
      "latex_user_defs": false,
      "report_style_numbering": false,
      "user_envs_cfg": false
    },
    "colab": {
      "provenance": [],
      "generative_ai_disabled": true
    }
  },
  "nbformat": 4,
  "nbformat_minor": 5
}