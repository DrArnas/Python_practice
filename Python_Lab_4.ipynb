{
 "cells": [
  {
   "cell_type": "markdown",
   "id": "9661feed",
   "metadata": {},
   "source": [
    "## Programavimo įvado pratybos\n",
    "\n",
    "- Python komandoms prisiminti: ``https://www.w3schools.com/python/``\n",
    "- Komentarai: # A1\n",
    "- Naudingos Powershell komandos:\n",
    "\n",
    "    - `ls` - pažiūrėti katalogo turinį\n",
    "\n",
    "    - `md` - sukurti naują katalogą\n",
    "\n",
    "    - `cd` - pereiti į katalogą / iš katalogo\n",
    "\n",
    "    - `ni p4.py` - sukuria naują bylą vardu `p4.py`\n",
    "\n",
    "    - `python p4.py` - kompiliuoja Python programą"
   ]
  },
  {
   "cell_type": "markdown",
   "id": "b7591613",
   "metadata": {},
   "source": [
    "## A užduotis"
   ]
  },
  {
   "cell_type": "markdown",
   "id": "3f5df523",
   "metadata": {
    "heading_collapsed": true
   },
   "source": [
    "### A1\n",
    "\n",
    "Paprašykite įvesti žodį turintį ne mažiau nei 10 raidžių. Patikrinkite, ar įvestas žodis turi lyginį ar nelyginį skaičių raidžių, ir atspausdinkite rezultatą. \n",
    "\n",
    "Pavyzdžiui, įvedus žodį “Integralas”, programa turi atspausdinti “Žodyje 'Integralas' yra lyginis skaičius raidžių”. "
   ]
  },
  {
   "cell_type": "code",
   "execution_count": 1,
   "id": "8aeef7a1",
   "metadata": {
    "hidden": true
   },
   "outputs": [
    {
     "name": "stdin",
     "output_type": "stream",
     "text": [
      "Prašau įvesti žodį:  Integralas\n"
     ]
    },
    {
     "name": "stdout",
     "output_type": "stream",
     "text": [
      "Žodyje 'Integralas' yra lyginis skaičius raidžių\n"
     ]
    }
   ],
   "source": [
    "zodis = input(\"Prašau įvesti žodį: \")\n",
    "if len(zodis) % 2 == 1:\n",
    "    print (f\"Žodyje '{zodis}' yra nelyginis skaičius raidžių\")\n",
    "else:\n",
    "    print (f\"Žodyje '{zodis}' yra lyginis skaičius raidžių\")"
   ]
  },
  {
   "cell_type": "markdown",
   "id": "74007c71",
   "metadata": {
    "heading_collapsed": true
   },
   "source": [
    "### A2\n",
    "\n",
    "Išskaidykite žodį į sąrašą (list) ir atspausdinkite kiekvieną sąrašo elementą su tarpais vienoje eilutėje panaudodami for ciklą. \n",
    "\n",
    "Pavyzdžiui, 1-oje užduotyje įvedus žodį “Integralas”, programa turi atspausdinti “I n t e g r a l a s”. \n",
    "\n",
    "Užuomina. Išbandykite ``print('Jonas', end=' ')`` ir ``print('Jonas', end='\\n')`` "
   ]
  },
  {
   "cell_type": "code",
   "execution_count": 2,
   "id": "7530fc89",
   "metadata": {
    "hidden": true
   },
   "outputs": [
    {
     "name": "stdout",
     "output_type": "stream",
     "text": [
      "I n t e g r a l a s "
     ]
    }
   ],
   "source": [
    "sarasas = list(zodis)\n",
    "for raide in sarasas:\n",
    "    print (raide, end=\" \")"
   ]
  },
  {
   "cell_type": "markdown",
   "id": "9edec4d2",
   "metadata": {
    "heading_collapsed": true
   },
   "source": [
    "### A3\n",
    "\n",
    "Paprašykite įvesti dviženklį skaičių (xy) ir dviejų raidžių skiemenį. Tada pakeiskite 2-os užduoties sąrašo x-tąjį elementą pirmąja skiemenio raide, o y-tąjį elementą antrąja skiemenio raide. Laikykite, kad nulis reiškia dešimtąjį elementą. \n",
    "\n",
    "Pavyzdžiui, jei sąrašas yra [\"I\",\"n\",\"t\",\"e\",\"g\",\"r\",\"a\",\"l\",\"a\",\"s\"], įvedus 38 ir “WZ”, programa turi atspausdinti “InWegraZas”. \n",
    "\n",
    "Užuomina. Prisiminkite veiksmus su eilutėmis praėjusiame laboratoriniame darbe."
   ]
  },
  {
   "cell_type": "code",
   "execution_count": 3,
   "id": "e9dcb75f",
   "metadata": {
    "hidden": true
   },
   "outputs": [
    {
     "name": "stdin",
     "output_type": "stream",
     "text": [
      "Iveskite dviženklį skaičių:  38\n",
      "Iveskite dviraidį skiemenį:  WZ\n"
     ]
    }
   ],
   "source": [
    "xy = input(\"Iveskite dviženklį skaičių: \")\n",
    "ab = input(\"Iveskite dviraidį skiemenį: \")"
   ]
  },
  {
   "cell_type": "code",
   "execution_count": 4,
   "id": "e03a2512",
   "metadata": {
    "hidden": true
   },
   "outputs": [
    {
     "name": "stdout",
     "output_type": "stream",
     "text": [
      "InWegraZas"
     ]
    }
   ],
   "source": [
    "x, y = int(xy[0]), int(xy[1])\n",
    "if x == 0: x = 10\n",
    "if y == 0: y = 10\n",
    "    \n",
    "sarasas[x-1] = ab[0]\n",
    "sarasas[y-1] = ab[1]\n",
    "\n",
    "for i in sarasas:\n",
    "    print (i, end=\"\")"
   ]
  },
  {
   "cell_type": "markdown",
   "id": "a38924b4",
   "metadata": {
    "heading_collapsed": true
   },
   "source": [
    "### A4\n",
    "\n",
    "Sujunkite 3-ioje užduotyje gauto sąrašo elementus į žodį atskirdami raides brūkšneliu (ar kokiu kitu simboliu). Rezultatą atspausdinkite. \n",
    "\n",
    "Pavyzdžiui, jei sąrašas yra [\"I\",\"n\",\"W\",\"e\",\"g\",\"r\",\"a\",\"Z\",\"a\",\"s\"], programa turi atspausdinti “I-n-W-e-g-r-a-Z-a-s”. \n",
    "\n",
    "Užuomina. Naudokite .join() metodą paaiškintą 40-toje paskaitų skaidrėje."
   ]
  },
  {
   "cell_type": "code",
   "execution_count": 5,
   "id": "48891221",
   "metadata": {
    "hidden": true
   },
   "outputs": [
    {
     "name": "stdout",
     "output_type": "stream",
     "text": [
      "I-n-W-e-g-r-a-Z-a-s\n"
     ]
    }
   ],
   "source": [
    "naujas_zodis = \"-\".join(sarasas)\n",
    "print (naujas_zodis)"
   ]
  },
  {
   "cell_type": "markdown",
   "id": "86784548",
   "metadata": {
    "heading_collapsed": true
   },
   "source": [
    "### A5\n",
    "\n",
    "Suraskite visus skaičius nuo 1 iki 100 kurie: \n",
    "\n",
    "    a) dalijasi iš 3 ir iš 4,\n",
    "    b) dalijasi iš 3 bet nesidalija iš 4, \n",
    "    c) dalijasi iš 3 arba 5, bet nesidalija iš 4. \n",
    "\n",
    "Sudėkite surastus skaičius į tris atskirus sąrašus (`list`): `sarasas_a`, `sarasas_b`, `sarasas_c`. Gautus rezultatus atspausdinkite kartu su paaiškinimais.  \n",
    "\n",
    "Užuomina. Galite rašyti tris atskirus `for` ciklus kiekvienam atvejui, arba vieną `for` ciklą su keliomis `if` sąlygomis. \n",
    "\n",
    "Išbandykite šitą kodą:\n",
    "\n",
    "\n",
    "```python\n",
    "sarasas_a = []\n",
    "sarasas_a.append(\"naujas elementas\")\n",
    "print(sarasas_a)\n",
    "```"
   ]
  },
  {
   "cell_type": "code",
   "execution_count": 9,
   "id": "7487e919",
   "metadata": {
    "hidden": true
   },
   "outputs": [
    {
     "name": "stdout",
     "output_type": "stream",
     "text": [
      "[12, 24, 36, 48, 60, 72, 84, 96]\n",
      "[3, 6, 9, 15, 18, 21, 27, 30, 33, 39, 42, 45, 51, 54, 57, 63, 66, 69, 75, 78, 81, 87, 90, 93, 99]\n",
      "[3, 5, 6, 9, 10, 15, 18, 21, 25, 27, 30, 33, 35, 39, 42, 45, 50, 51, 54, 55, 57, 63, 65, 66, 69, 70, 75, 78, 81, 85, 87, 90, 93, 95, 99]\n"
     ]
    }
   ],
   "source": [
    "sarasas_a = []\n",
    "sarasas_b = []\n",
    "sarasas_c = []\n",
    "\n",
    "for skaicius in range (1,101):   # nepamirsti kad +1, nes paskutinio neima\n",
    "    if skaicius % 3 == 0 and skaicius % 4 == 0:\n",
    "        sarasas_a.append(skaicius)\n",
    "    if skaicius % 3 == 0 and skaicius % 4 != 0:\n",
    "        sarasas_b.append(skaicius)\n",
    "    if (skaicius % 3 == 0 or skaicius % 5 == 0) and skaicius % 4 != 0: # salygos apsiskliaudzia pagal reikalavima\n",
    "        sarasas_c.append(skaicius)\n",
    "\n",
    "print (sarasas_a)\n",
    "print (sarasas_b)\n",
    "print (sarasas_c)"
   ]
  },
  {
   "cell_type": "markdown",
   "id": "5465b090",
   "metadata": {
    "heading_collapsed": true
   },
   "source": [
    "### A6\n",
    "\n",
    "Raskite pirmuosius 20 geometrinės progresijos narių, kai pradinis narys yra 1, o daugiklis yra 2: \n",
    "\n",
    "1, 2, 4, 8, 16, 32, 64, ... \n",
    "\n",
    "Sudėkite juos į sąrašą ir atspausdinkite. "
   ]
  },
  {
   "cell_type": "code",
   "execution_count": 7,
   "id": "f5708372",
   "metadata": {
    "hidden": true
   },
   "outputs": [
    {
     "name": "stdout",
     "output_type": "stream",
     "text": [
      "[1, 2, 4, 8, 16, 32, 64, 128, 256, 512, 1024, 2048, 4096, 8192, 16384, 32768, 65536, 131072, 262144, 524288]\n"
     ]
    }
   ],
   "source": [
    "geom = [1]\n",
    "daugiklis = 2\n",
    "\n",
    "for i in range(19):\n",
    "    geom.append(geom[i]*daugiklis)\n",
    "    \n",
    "print(geom)"
   ]
  },
  {
   "cell_type": "markdown",
   "id": "3e200bab",
   "metadata": {
    "heading_collapsed": true
   },
   "source": [
    "### A7\n",
    "\n",
    "Susumuokite 6-oje užduotyje surastus geometrinės progresijos narius pasinaudodami `for` ciklu. Rezultatą atspausdinkite."
   ]
  },
  {
   "cell_type": "code",
   "execution_count": 8,
   "id": "4f666dc0",
   "metadata": {
    "hidden": true
   },
   "outputs": [
    {
     "name": "stdout",
     "output_type": "stream",
     "text": [
      "1048575\n"
     ]
    }
   ],
   "source": [
    "suma = 0\n",
    "for i in geom:\n",
    "    suma += i         \n",
    "print (suma)"
   ]
  },
  {
   "cell_type": "markdown",
   "id": "f2eb3981",
   "metadata": {
    "heading_collapsed": true
   },
   "source": [
    "### A8\n",
    "\n",
    "Paprašykite įvesti sakinį sudarytą iš ne mažiau nei trijų žodžių. Suskaičiuokite:  \n",
    "\n",
    "    a) kiek žodžių yra sakinyje, \n",
    "    b) kiek balsių yra sakinyje, \n",
    "    c) kiek priebalsių yra sakinyje. \n",
    "\n",
    "Gautus rezultatus atspausdinkite kartu su paaiškinimais. \n",
    "\n",
    "*Užuomina.* Išbandykite šitą kodą:\n",
    "\n",
    "```python\n",
    "skaiciai = \"1234567890\"\n",
    "zodis = input(\"Įveskite žodį sudarytą iš raidžių ir skaičių: \")\n",
    "for x in skaiciai:\n",
    "\tif x in zodis:\n",
    "\t\tprint(f\"skaičius {x} yra jūsų žodyje\")\n",
    "```"
   ]
  },
  {
   "cell_type": "code",
   "execution_count": 9,
   "id": "831cfade",
   "metadata": {
    "hidden": true
   },
   "outputs": [
    {
     "name": "stdin",
     "output_type": "stream",
     "text": [
      "Įveskite žodį sudarytą iš raidžių ir skaičių:  Jonas 123\n"
     ]
    },
    {
     "name": "stdout",
     "output_type": "stream",
     "text": [
      "skaičius 1 yra jūsų žodyje\n",
      "skaičius 2 yra jūsų žodyje\n",
      "skaičius 3 yra jūsų žodyje\n"
     ]
    }
   ],
   "source": [
    "skaiciai = \"1234567890\"\n",
    "zodis = input(\"Įveskite žodį sudarytą iš raidžių ir skaičių: \")\n",
    "for x in skaiciai:\n",
    "\tif x in zodis:\n",
    "\t\tprint(f\"skaičius {x} yra jūsų žodyje\")"
   ]
  },
  {
   "cell_type": "code",
   "execution_count": 10,
   "id": "dda2ee88",
   "metadata": {
    "hidden": true
   },
   "outputs": [
    {
     "name": "stdin",
     "output_type": "stream",
     "text": [
      "Iveskite sakinį:  Jonas yra puikus fizikas\n"
     ]
    }
   ],
   "source": [
    "sakinys = input(\"Iveskite sakinį: \")"
   ]
  },
  {
   "cell_type": "code",
   "execution_count": 11,
   "id": "7432a516",
   "metadata": {
    "hidden": true
   },
   "outputs": [
    {
     "name": "stdout",
     "output_type": "stream",
     "text": [
      "Iš viso žodžių: 4, balsių: 10, priebalsių: 10.\n"
     ]
    }
   ],
   "source": [
    "balses = \"aąeęėiįyouųū\"\n",
    "priebalses = \"bcčdfghjklmnpqrsštvwzžx\"\n",
    "\n",
    "nbal, nprieb, nzod = 0, 0, 1\n",
    "\n",
    "for raide in sakinys:\n",
    "    if raide in balses: nbal += 1\n",
    "    elif raide in priebalses: nprieb += 1\n",
    "    elif raide == ' ': nzod += 1 \n",
    "\n",
    "print(f\"Iš viso žodžių: {nzod}, balsių: {nbal}, priebalsių: {nprieb}.\")"
   ]
  },
  {
   "cell_type": "markdown",
   "id": "10e48411",
   "metadata": {
    "heading_collapsed": true
   },
   "source": [
    "### A9\n",
    "\n",
    "Raskite matavimų sąrašo: \n",
    "\n",
    "    a) vidurkį, \n",
    "    b) medianą,  \n",
    "    c) standartinį nuokrypį,\n",
    "\n",
    "Gautus rezultatus atspausdinkite kartu su paaiškinimais. \n",
    "\n",
    "Priminimas:\n",
    "\n",
    "$\\sigma_x = \\sqrt{\\dfrac{\\sum_i (x_i - \\bar x)^2}{n}}\\quad$  kur  $\\quad\\bar x = \\dfrac1n \\sum_i x_i $"
   ]
  },
  {
   "cell_type": "code",
   "execution_count": 12,
   "id": "30339081",
   "metadata": {
    "hidden": true
   },
   "outputs": [],
   "source": [
    "matavimai = [17.5, 18.7, 18.8, 20.4, 23.4, 19.7, 16.0, 16.6, 16.7, 17.4, 18.9, 21.1, 21.4, 21.9, 23.8, 24.3, 23.8, 24.6, 24.3, 19.8, 19.8, 22.1, 23.4, 24.6, 23.8, 20.3, 23.9, 22.4, 21.3, 17.7, 14.4]"
   ]
  },
  {
   "cell_type": "code",
   "execution_count": 13,
   "id": "f096dce9",
   "metadata": {
    "hidden": true
   },
   "outputs": [
    {
     "name": "stdout",
     "output_type": "stream",
     "text": [
      "[17.5, 18.7, 18.8, 20.4, 23.4, 19.7, 16.0, 16.6, 16.7, 17.4, 18.9, 21.1, 21.4, 21.9, 23.8, 24.3, 23.8, 24.6, 24.3, 19.8, 19.8, 22.1, 23.4, 24.6, 23.8, 20.3, 23.9, 22.4, 21.3, 17.7, 14.4]\n"
     ]
    }
   ],
   "source": [
    "print(matavimai)"
   ]
  },
  {
   "cell_type": "code",
   "execution_count": 14,
   "id": "9aa93111",
   "metadata": {
    "hidden": true
   },
   "outputs": [
    {
     "name": "stdout",
     "output_type": "stream",
     "text": [
      "20.73548387096774\n"
     ]
    }
   ],
   "source": [
    "suma = sum(matavimai)       #tegul naudojasi komandomis, bet galite parodyti ir kaip susumuoti su for (suma = suma + i)\n",
    "nariu_skaicius = len(matavimai)      #tegul su len, bet galima parodyti kad nariu_sk = nariu_sk + 1 su kievienu for ciklu\n",
    "vidurkis = suma/nariu_skaicius\n",
    "print (vidurkis)"
   ]
  },
  {
   "cell_type": "code",
   "execution_count": 15,
   "id": "c1621ffc",
   "metadata": {
    "hidden": true
   },
   "outputs": [
    {
     "name": "stdout",
     "output_type": "stream",
     "text": [
      "Mediana1 yra 21.1\n"
     ]
    }
   ],
   "source": [
    "sorted_list = sorted(matavimai) #medianos ieskant turi buti issortintas listas\n",
    "\n",
    "if nariu_skaicius % 2 == 1:\n",
    "    indeksas = nariu_skaicius // 2\n",
    "    median = sorted_list[indeksas] \n",
    "    print (f\"Mediana1 yra {median}\")\n",
    "else:       #kadangi nariu 31, gali parasyti tik vienam atvejui, matysit per seminara kaip sekasi.\n",
    "    indeksas = nariu_skaicius // 2  \n",
    "    indeksas2 = indeksas - 1        \n",
    "    median = (sorted_list[indeksas] + sorted_list[indeksas2]) / 2\n",
    "    print (f\"Mediana2 yra {median}\")"
   ]
  },
  {
   "cell_type": "code",
   "execution_count": 16,
   "id": "aff4406a",
   "metadata": {
    "hidden": true
   },
   "outputs": [
    {
     "name": "stdout",
     "output_type": "stream",
     "text": [
      "2.871949813908805\n"
     ]
    }
   ],
   "source": [
    "stdev = 0\n",
    "for i in matavimai:\n",
    "    stdev = stdev + ((i - vidurkis)**2) / nariu_skaicius\n",
    "print (stdev**(1/2))"
   ]
  },
  {
   "cell_type": "markdown",
   "id": "4273a46e",
   "metadata": {},
   "source": [
    "## B užduotis"
   ]
  },
  {
   "cell_type": "markdown",
   "id": "1b300a24",
   "metadata": {
    "heading_collapsed": true
   },
   "source": [
    "### B1\n",
    "\n",
    "Raskite pirmuosius 20 Fibonači sekos narių:  \n",
    "\n",
    "0, 1, 1, 2, 3, 5, 8, 13, 21, 34, 55, 89, 144, ... \n",
    "\n",
    "Sudėkite juos į sąrašą ir atspausdinkite kartu su paaiškinimu. \n",
    "\n",
    "Paaiškinimas. Fibonačio sekos kiekvienas narys lygus prieš jį buvusių dviejų narių sumai. "
   ]
  },
  {
   "cell_type": "code",
   "execution_count": 17,
   "id": "f4476d0e",
   "metadata": {
    "hidden": true
   },
   "outputs": [
    {
     "name": "stdout",
     "output_type": "stream",
     "text": [
      "[0, 1, 1, 2, 3, 5, 8, 13, 21, 34, 55, 89, 144, 233, 377, 610, 987, 1597, 2584, 4181]\n"
     ]
    }
   ],
   "source": [
    "# versija 1\n",
    "\n",
    "fibonacci = []\n",
    "narys1 = 0\n",
    "narys2 = 1\n",
    "\n",
    "for i in range(20): \n",
    "    fibonacci.append(narys1)\n",
    "    narys3 = narys1 + narys2\n",
    "    narys1 = narys2\n",
    "    narys2 = narys3\n",
    "    \n",
    "print(fibonacci)"
   ]
  },
  {
   "cell_type": "code",
   "execution_count": 18,
   "id": "bb226513",
   "metadata": {
    "hidden": true
   },
   "outputs": [
    {
     "name": "stdout",
     "output_type": "stream",
     "text": [
      "[0, 1, 1, 2, 3, 5, 8, 13, 21, 34, 55, 89, 144, 233, 377, 610, 987, 1597, 2584, 4181]\n"
     ]
    }
   ],
   "source": [
    "# versija 2\n",
    "\n",
    "fibonacci = [0] * 20\n",
    "fibonacci[1] = 1\n",
    "\n",
    "for i in range(2,20): \n",
    "    fibonacci[i] = fibonacci[i-1]+fibonacci[i-2]\n",
    "    \n",
    "print(fibonacci)"
   ]
  },
  {
   "cell_type": "markdown",
   "id": "5f6bf0f3",
   "metadata": {
    "heading_collapsed": true
   },
   "source": [
    "### B2\n",
    "\n",
    "Skaičiaus $\\pi$ vertę galima apskaičiuoti pasinaudojant Nilakantha seka:\n",
    "\n",
    "$\n",
    "\\pi = 3 + \\dfrac{4}{2\\times3\\times4} -  \\dfrac{4}{4\\times5\\times6} +  \\dfrac{4}{6\\times7\\times8} - \\dfrac{4}{8\\times9\\times10} + \\ldots\n",
    "$\n",
    "\n",
    "Apskaičiuokite $\\pi$ vertę susumuodami:\n",
    "\n",
    "- pirmus 10 sekos narių,\n",
    "- pirmus 100 sekos narių,\n",
    "- pirmus 10000 sekos narių.\n",
    "\n",
    "\n",
    "Rezultatus atspausdinkite."
   ]
  },
  {
   "cell_type": "code",
   "execution_count": 19,
   "id": "def1b4f5",
   "metadata": {
    "hidden": true
   },
   "outputs": [
    {
     "name": "stdout",
     "output_type": "stream",
     "text": [
      "3.141592655589784\n"
     ]
    }
   ],
   "source": [
    "pi = 3\n",
    "n = 1000    # kiek sekos nariu skaiciuosime, kuo daugiau, tuo tikslesne pi verte, galima pazaisti ir paziureti kaip veikia.\n",
    "narys = 1\n",
    "for i in range(2, n, 2):\n",
    "    if narys % 2 == 1:  #pirmas narys plius, antras minus ir t.t.\n",
    "        pi = pi + 4/(i*(i+1)*(i+2))\n",
    "    else:\n",
    "        pi = pi - 4/(i*(i+1)*(i+2))\n",
    "    narys += 1\n",
    "    #print (pi)\n",
    "print (pi)"
   ]
  },
  {
   "cell_type": "markdown",
   "id": "0d3e1f2b",
   "metadata": {
    "heading_collapsed": true
   },
   "source": [
    "## Sandbox"
   ]
  },
  {
   "cell_type": "code",
   "execution_count": null,
   "id": "604147f0",
   "metadata": {
    "hidden": true
   },
   "outputs": [],
   "source": []
  },
  {
   "cell_type": "markdown",
   "id": "eafc1c03",
   "metadata": {
    "hidden": true
   },
   "source": []
  },
  {
   "cell_type": "markdown",
   "id": "45ec25b9",
   "metadata": {
    "hidden": true
   },
   "source": [
    "---"
   ]
  }
 ],
 "metadata": {
  "kernelspec": {
   "display_name": "Python 3 (ipykernel)",
   "language": "python",
   "name": "python3"
  },
  "language_info": {
   "codemirror_mode": {
    "name": "ipython",
    "version": 3
   },
   "file_extension": ".py",
   "mimetype": "text/x-python",
   "name": "python",
   "nbconvert_exporter": "python",
   "pygments_lexer": "ipython3",
   "version": "3.11.7"
  },
  "latex_envs": {
   "LaTeX_envs_menu_present": true,
   "autoclose": false,
   "autocomplete": true,
   "bibliofile": "biblio.bib",
   "cite_by": "apalike",
   "current_citInitial": 1,
   "eqLabelWithNumbers": true,
   "eqNumInitial": 1,
   "hotkeys": {
    "equation": "Ctrl-E",
    "itemize": "Ctrl-I"
   },
   "labels_anchors": false,
   "latex_user_defs": false,
   "report_style_numbering": false,
   "user_envs_cfg": false
  }
 },
 "nbformat": 4,
 "nbformat_minor": 5
}
