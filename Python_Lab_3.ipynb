{
  "cells": [
    {
      "cell_type": "markdown",
      "id": "c6356b94",
      "metadata": {
        "id": "c6356b94"
      },
      "source": [
        "## Programavimo įvado pratybos\n",
        "\n",
        "Prisijungimas ir užduotys:\n",
        "\n",
        "- Python komandoms prisiminti: ``https://www.w3schools.com/python/``\n",
        "- Komentarai: #\n",
        "- Naudingos PowerShell/Terminal komandos:\n",
        "\n",
        "    - `ls` - pažiūrėti katalogo turinį\n",
        "\n",
        "    - `md` - sukurti naują katalogą\n",
        "\n",
        "    - `cd` - pereiti į katalogą / iš katalogo\n",
        "\n",
        "    - `ni p1.py` - sukuria naują bylą vardu `p1.py`\n",
        "\n",
        "    - `python p1.py` - kompiliuoja Python programą\n",
        "   \n",
        "- Elementarūs matematiniai veiksmai Python:\n",
        "\n",
        "    - `2*3` - daugyba\n",
        "    - `2/3` - dalyba\n",
        "    - `2**3` - kėlimas laipsniu\n",
        "    - `2**(1/2)` - šaknies traukimas"
      ]
    },
    {
      "cell_type": "markdown",
      "source": [
        "Visi duomenys Python programavimo kalboje yra objektai. Tai reiškia, kad visi jie yra aprašomi tam tikromis taisyklėmis, kurios nustato ką su tais objektais galima veikti. Ne viską ką galima atlikti su skaičiais, galima atlikti su žodžiais ir atvirkščiai. Pavyzdžiui tam tikro teksto raides galima paversti didžiosiomis `\"septyni\".upper()`, tačiau to nepavyks padaryti su skaičiumi `7.upper()`."
      ],
      "metadata": {
        "id": "-s_2tcGihFto"
      },
      "id": "-s_2tcGihFto"
    },
    {
      "cell_type": "code",
      "source": [
        "# Kintamojo tipą galima patikrinti su funkcija type()\n",
        "x = \"vardas\"\n",
        "y = x\n",
        "z = 7\n",
        "w = 12.3\n",
        "\n",
        "print (type(x))\n",
        "print (type(y))\n",
        "print (type(z))\n",
        "print (type(w))"
      ],
      "metadata": {
        "id": "k-OpQP0kkyTT"
      },
      "id": "k-OpQP0kkyTT",
      "execution_count": null,
      "outputs": []
    },
    {
      "cell_type": "markdown",
      "source": [
        "Pakeiskite aukščiau esančiame pavyzdyje `z` kintamąjį į `float` tipo ir pakeiskite `w` kintamąjį į `string` tipo."
      ],
      "metadata": {
        "id": "D0-vm8CilL2P"
      },
      "id": "D0-vm8CilL2P"
    },
    {
      "cell_type": "markdown",
      "source": [
        "Kintamuosius galime konvertuoti tarp skirtingų tipų pasinaudodami funkcijomis `int()`, `float()` ir `str()`."
      ],
      "metadata": {
        "id": "NNLVtkCCldKJ"
      },
      "id": "NNLVtkCCldKJ"
    },
    {
      "cell_type": "code",
      "source": [
        "skaicius = 123\n",
        "tekstas = str(skaicius)\n",
        "skaicius_2 = float(tekstas)\n",
        "\n",
        "print (type(skaicius))\n",
        "print (type(tekstas))\n",
        "print (type(skaicius_2))"
      ],
      "metadata": {
        "id": "a5oMuvP8lt8G"
      },
      "id": "a5oMuvP8lt8G",
      "execution_count": null,
      "outputs": []
    },
    {
      "cell_type": "markdown",
      "source": [
        "Tekstas (string) yra sudėtinis objektas - sudarytas iš atskirų simbolių. Juos galima indeksuoti."
      ],
      "metadata": {
        "id": "Z89C4tbkmC_z"
      },
      "id": "Z89C4tbkmC_z"
    },
    {
      "cell_type": "code",
      "source": [
        "tekstas = \"Treciosios programavimo pratybos 2025 metais\"\n",
        "\n",
        "pirma_raide = tekstas[0]\n",
        "\n",
        "print (pirma_raide)\n",
        "\n",
        "# Galima pasirinkti ir daugiau nei vieną simbolį panaudojant indeksavimą\n",
        "\n",
        "pirmas_zodis = tekstas[0:10]\n",
        "\n",
        "print (pirmas_zodis)"
      ],
      "metadata": {
        "id": "pzZt-tMSmRH7"
      },
      "id": "pzZt-tMSmRH7",
      "execution_count": null,
      "outputs": []
    },
    {
      "cell_type": "markdown",
      "source": [
        "Modifikuokite viršuje esantį kodą, kad iškirptumėte \"2025\". Konvertuokite į skaičių, ir padalinkite iš 5."
      ],
      "metadata": {
        "id": "UcOx0nhKmwwQ"
      },
      "id": "UcOx0nhKmwwQ"
    },
    {
      "cell_type": "markdown",
      "source": [
        "Sąrašas taip pat yra objektas. Teksto simbolius galime paprastai konvertuoti į sąrašą su funkcija `list()`. Ši funkcija kiekvieną teksto simbolį paverčia atskiru žodyno įrašu. Jeigu norime atskirti ties tam tikrais simboliais, galime naudoti `string.split()` - kur string yra kažkoks tekstas."
      ],
      "metadata": {
        "id": "JEQQaqaym-Hd"
      },
      "id": "JEQQaqaym-Hd"
    },
    {
      "cell_type": "code",
      "source": [
        "tekstas = \"To the mind that is still, the whole universe surrenders.\"\n",
        "\n",
        "sarasas = list(tekstas)\n",
        "sarasas2 = tekstas.split(\",\")   # Tekstą į atskirtas dalis atskiriame ties kableliu\n",
        "print (sarasas2)"
      ],
      "metadata": {
        "id": "FQCNwhE7nNqt"
      },
      "id": "FQCNwhE7nNqt",
      "execution_count": null,
      "outputs": []
    },
    {
      "cell_type": "markdown",
      "source": [
        "Modifikuokite viršuje esantį kodą taip, kad sąraše atsidurtų atskiri žodžiai. Tam jums reikės atlikti du veiksmus. Pirmiausia tekste panaikinti kablelį su `string.replace()` metodu, ir tuomet pasinaudojant `string.split()` atskirti ties tarpais (spaces)."
      ],
      "metadata": {
        "id": "uFPILFRDozFY"
      },
      "id": "uFPILFRDozFY"
    },
    {
      "cell_type": "markdown",
      "source": [
        "Sąrašas taip pat yra sudėtinis objektas (sudarytas iš narių), tad galime juos indeksuoti. Žemiau esančiame kodo pavyzdyje, atskiriame sakinį ties kableliu, vadinasi turime du narius (iki ir po kablelio), ir indeksuodami apsirenkame pirmąją sakinio dalį su indeksu `[0]` - programavime pirmasis narys lygus 0."
      ],
      "metadata": {
        "id": "9G9Z60ILpIGc"
      },
      "id": "9G9Z60ILpIGc"
    },
    {
      "cell_type": "code",
      "source": [
        "tekstas = \"To the mind that is still, the whole universe surrenders.\"\n",
        "\n",
        "sarasas = tekstas.split(\",\")\n",
        "\n",
        "print (sarasas[0])"
      ],
      "metadata": {
        "id": "DldqRVxfpQwS"
      },
      "id": "DldqRVxfpQwS",
      "execution_count": null,
      "outputs": []
    },
    {
      "cell_type": "markdown",
      "source": [
        "Modifikuokite aukščiau esantį kodą taip, kad pasirinktumėte pirmą, antrą, trečią, septintą, aštuntą ir devintą žodžius."
      ],
      "metadata": {
        "id": "-Pbu0vSGpvhy"
      },
      "id": "-Pbu0vSGpvhy"
    },
    {
      "cell_type": "markdown",
      "id": "054c8e77",
      "metadata": {
        "id": "054c8e77"
      },
      "source": [
        "## A užduotis"
      ]
    },
    {
      "cell_type": "markdown",
      "id": "6ddb641e",
      "metadata": {
        "heading_collapsed": true,
        "id": "6ddb641e"
      },
      "source": [
        "#### A1\n",
        "\n",
        "Jums jau sukurtas kintamasis `letters`, pasinaudodami indeksavimu, išrinkite reikalingas raides ir atspausdinkite savo vardą iš didžiosios raidės.\n",
        "\n",
        "Užuomina: Indeksavimas vykdomas laužtinių skliaustų pagalba, pvz. `letters[5]` grąžintų raidę `f`."
      ]
    },
    {
      "cell_type": "code",
      "execution_count": null,
      "id": "d65a28ef",
      "metadata": {
        "hidden": true,
        "id": "d65a28ef"
      },
      "outputs": [],
      "source": [
        "letters = \"abcdefghijklmnopqrstuvwxyz\"\n"
      ]
    },
    {
      "cell_type": "markdown",
      "id": "581760ef",
      "metadata": {
        "heading_collapsed": true,
        "id": "581760ef"
      },
      "source": [
        "#### A2\n",
        "\n",
        "Sukurkite naują kintamąjį ``auditorija`` ir priskirkite jam savo auditorijos numerį pasinaudodami tik kintamuoju ``digits``.\n",
        "\n",
        "Užuomina: atkreipkite dėmesį, kad kintamsis `digits` yra skaičius, o indeksavimui reikalingas `string` tipo kintamasis."
      ]
    },
    {
      "cell_type": "code",
      "execution_count": null,
      "id": "158bb2bc",
      "metadata": {
        "hidden": true,
        "id": "158bb2bc"
      },
      "outputs": [],
      "source": [
        "digits = 1234567890"
      ]
    },
    {
      "cell_type": "markdown",
      "id": "da85333d",
      "metadata": {
        "heading_collapsed": true,
        "id": "da85333d"
      },
      "source": [
        "#### A3\n",
        "\n",
        "Jums pateiktas kintamasis `sakinys`. Padalinkite A2 užduotyje sukurtą kintamąjį `auditorija`, iš pateikto sakinio ilgio (simbolių skaičiaus).\n",
        "\n",
        "```\n",
        "Auditorijos numeris: [numeris]\n",
        "Sakinio ilgis: [ilgis]\n",
        "[numeris] // [ilgis] = [dalyba] (liekana [liekana])\n",
        "```\n",
        "\n",
        "Pavyzdžiui, jei auditorijos numeris yra 101, o sakinio ilgis -- 15, tada turite atspausdinti:\n",
        "\n",
        "```\n",
        "Auditorijos numeris: 101\n",
        "Sakinio ilgis: 15\n",
        "101 // 15 = 6 (liekana 11)\n",
        "\n",
        "```"
      ]
    },
    {
      "cell_type": "code",
      "execution_count": null,
      "id": "1820b2d5",
      "metadata": {
        "hidden": true,
        "id": "1820b2d5"
      },
      "outputs": [],
      "source": [
        "sakinys = \"Kai programuotojas susiduria su sunkumais ieškodamas klaidų, tai reiškia, kad jis ieško ne ten kur reikia.\""
      ]
    },
    {
      "cell_type": "markdown",
      "id": "56406068",
      "metadata": {
        "heading_collapsed": true,
        "id": "56406068"
      },
      "source": [
        "#### A4\n",
        "\n",
        "Pasinaudokite A3 užduotyje pateiktu kintamuoju `sakinys`. Pakeiskite visas \"s\" raides skaičiumi \"5\"."
      ]
    },
    {
      "cell_type": "code",
      "execution_count": null,
      "id": "6318c26c",
      "metadata": {
        "hidden": true,
        "id": "6318c26c"
      },
      "outputs": [],
      "source": []
    },
    {
      "cell_type": "markdown",
      "id": "b6b4f4cc",
      "metadata": {
        "heading_collapsed": true,
        "id": "b6b4f4cc"
      },
      "source": [
        "#### A5\n",
        "\n",
        "Jums sukurtas kintamasis, tam tikro duomenų failo antraštinė eilutė su informacija.\n",
        "\n",
        "Parašykite kodą, kuris iš šio kintamojo iškerpa visas penkias skaitines vertes ir priskiria jas naujiems kintamiesiems. Pasinaudokite galimybe karpyti \"slicing\". Skaitines vertes atspausinkite.\n",
        "\n",
        "Rezultatą atspausdinkite. Dažniausiai duomenų failai yra standartizuoti, tad parašę kodą kuris iškerpa tam tikrą informaciją iš vieno failo, tas pats kodas veiks ir su kitais atitinkamais duomenų failais."
      ]
    },
    {
      "cell_type": "code",
      "execution_count": null,
      "id": "8737a780",
      "metadata": {
        "hidden": true,
        "id": "8737a780"
      },
      "outputs": [],
      "source": [
        "eilute = \"Radial velocity =   -55.423  dispersion =   0.902  FWHM =  12.129, 912 lines matched out of 5014\"\n",
        "\n",
        "Rv = eilute[20:28]"
      ]
    },
    {
      "cell_type": "markdown",
      "id": "5817922f",
      "metadata": {
        "heading_collapsed": true,
        "id": "5817922f"
      },
      "source": [
        "#### A6\n",
        "\n",
        "Dar kartą atkreipkite dėmesį į duomenų failo antraštę. Joje pateikta informacija apie linijas (šiam momentui nėra svarbu kas tai yra).\n",
        "\n",
        "Apskaičiuokite kiek procentų linijų buvo rasta (matched). Rezultatą atspausdinkite 2 skaičių po kablelio tikslumu. Nepamirškite atspausdinti procento ženklo, pvz. 12.34%."
      ]
    },
    {
      "cell_type": "code",
      "execution_count": null,
      "id": "dfc7ca48",
      "metadata": {
        "hidden": true,
        "id": "dfc7ca48"
      },
      "outputs": [],
      "source": []
    },
    {
      "cell_type": "markdown",
      "id": "599a9842",
      "metadata": {
        "heading_collapsed": true,
        "id": "599a9842"
      },
      "source": [
        "#### A7\n",
        "\n",
        "Pridėkite prie kintamojo ``eilute`` informaciją, kurią suskaičiavote 6-oje užduotyje. Rezultatą atspausdinkite.\n",
        "\n",
        "Atspausdintas rezultatas turėtų atrodyti panašiai: `\"Radial velocity =   -55.423  dispersion =   0.902  FWHM =  12.129, 912 lines matched out of 5014 (12.34%)\"`."
      ]
    },
    {
      "cell_type": "code",
      "execution_count": null,
      "id": "bc14e159",
      "metadata": {
        "hidden": true,
        "id": "bc14e159"
      },
      "outputs": [],
      "source": []
    },
    {
      "cell_type": "markdown",
      "id": "b8b1336e",
      "metadata": {
        "id": "b8b1336e"
      },
      "source": [
        "#### A8\n",
        "\n",
        "7-oje užduotyje gautą atsakymą paverskite sąrašu"
      ]
    },
    {
      "cell_type": "code",
      "execution_count": null,
      "id": "890e3a43",
      "metadata": {
        "id": "890e3a43"
      },
      "outputs": [],
      "source": []
    },
    {
      "cell_type": "markdown",
      "id": "2ea05b38",
      "metadata": {
        "id": "2ea05b38"
      },
      "source": []
    },
    {
      "cell_type": "markdown",
      "id": "adba02f2",
      "metadata": {
        "id": "adba02f2"
      },
      "source": [
        "## B užduotis\n",
        "\n",
        "Parašykite primityvų kriptografijos algoritmą:"
      ]
    },
    {
      "cell_type": "markdown",
      "id": "2af4675c",
      "metadata": {
        "heading_collapsed": true,
        "id": "2af4675c"
      },
      "source": [
        "#### B1\n",
        "\n",
        "Sukurkite kintamąjį:\n",
        "\n",
        "```python\n",
        "letters = \"abcdefghijklmnopqrstuvwxyz \"\n",
        "message = \"slapti egzamino uzduociu atsakymai\"\n",
        "```"
      ]
    },
    {
      "cell_type": "code",
      "execution_count": null,
      "id": "48fee102",
      "metadata": {
        "hidden": true,
        "id": "48fee102"
      },
      "outputs": [],
      "source": [
        "letters = \"abcdefghijklmnopqrstuvwxyz \"\n",
        "message = \"slapti egzamino uzduociu atsakymai\""
      ]
    },
    {
      "cell_type": "markdown",
      "id": "2abb425c",
      "metadata": {
        "heading_collapsed": true,
        "id": "2abb425c"
      },
      "source": [
        "#### B2\n",
        "\n",
        "Sumaišykite kintamojo ``letters`` raidžių tvarką. Rezultatą užsaugokite naujame kintamajame ``code``.\n",
        "\n",
        "Užuomina: https://stackoverflow.com/questions/2668312/shuffle-string-in-python"
      ]
    },
    {
      "cell_type": "code",
      "execution_count": null,
      "id": "d63ed397",
      "metadata": {
        "hidden": true,
        "id": "d63ed397",
        "outputId": "c29e50c0-50f5-4367-882c-779f32e069b8"
      },
      "outputs": [
        {
          "name": "stdout",
          "output_type": "stream",
          "text": [
            "frxyvdoa squtpkclhmzbiewgjn\n"
          ]
        }
      ],
      "source": [
        "import random\n",
        "code = ''.join(random.sample(letters,len(letters)))\n",
        "print(code)"
      ]
    },
    {
      "cell_type": "markdown",
      "id": "bcaddabe",
      "metadata": {
        "heading_collapsed": true,
        "id": "bcaddabe"
      },
      "source": [
        "#### B3\n",
        "\n",
        "Užkoduokite kintamąjį ``message`` pakeisdami raides pagal ``code`` tvarką.\n",
        "\n",
        "Pavyzdžiui, jei ``code = \"ijk...\"``, tada raidė ``a`` turi būti pakeista raide ``i``, raidė ``b`` - raide ``j``, raidė ``c`` - raide ``k``, ir t.t.\n",
        "\n",
        "Rezultatą atspausdinkite. Užuominos:\n",
        "\n",
        "https://www.w3schools.com/python/python_for_loops.asp\n",
        "\n",
        "https://stackoverflow.com/questions/2294493/how-to-get-the-position-of-a-character-in-python"
      ]
    },
    {
      "cell_type": "code",
      "execution_count": null,
      "id": "a65984d1",
      "metadata": {
        "hidden": true,
        "id": "a65984d1",
        "outputId": "8f1293e2-1488-4871-e6ed-2951811030fd"
      },
      "outputs": [
        {
          "name": "stdout",
          "output_type": "stream",
          "text": [
            "mufcz nvojft pknbjybkx bnfzmfqgtf \n"
          ]
        }
      ],
      "source": [
        "encrypted = \"\"\n",
        "for s in message:\n",
        "    n = letters.find(s)\n",
        "    encrypted += code[n]\n",
        "print(encrypted)"
      ]
    },
    {
      "cell_type": "markdown",
      "id": "53c0ef17",
      "metadata": {
        "heading_collapsed": true,
        "id": "53c0ef17"
      },
      "source": [
        "#### B4\n",
        "\n",
        "Pasinaudodami kodu\n",
        "\n",
        "```python\n",
        "code = \"zxfdbhtja epqucovgwlsykmnir\"\n",
        "```\n",
        "\n",
        "atkoduokite žinutę\n",
        "\n",
        "```python\n",
        "message = \"zlb zsrozqzfazsrustzpb zs\"\n",
        "```\n",
        "\n",
        "Rezultatą atspausdinkite."
      ]
    },
    {
      "cell_type": "code",
      "execution_count": null,
      "id": "52a14ce0",
      "metadata": {
        "hidden": true,
        "id": "52a14ce0"
      },
      "outputs": [],
      "source": [
        "code    = \"zxfdbhtja epqucovgwlsykmnir\"\n",
        "letters = \"abcdefghijklmnopqrstuvwxyz \"\n",
        "message = \"zlb zsrozqzfazsrustzpb zs\""
      ]
    },
    {
      "cell_type": "code",
      "execution_count": null,
      "id": "62d5e203",
      "metadata": {
        "hidden": true,
        "id": "62d5e203",
        "outputId": "c321f1ad-cba6-4329-f28e-d93d604b1e90"
      },
      "outputs": [
        {
          "name": "stdout",
          "output_type": "stream",
          "text": [
            "atejau pamaciau nugalejau\n"
          ]
        }
      ],
      "source": [
        "decrypted = \"\"\n",
        "for s in message:\n",
        "    n = code.find(s)\n",
        "    decrypted += letters[n]\n",
        "print(decrypted)"
      ]
    },
    {
      "cell_type": "markdown",
      "id": "7f454b2f",
      "metadata": {
        "id": "7f454b2f"
      },
      "source": [
        "## Sandbox"
      ]
    },
    {
      "cell_type": "code",
      "execution_count": null,
      "id": "89a48d91",
      "metadata": {
        "id": "89a48d91"
      },
      "outputs": [],
      "source": []
    }
  ],
  "metadata": {
    "kernelspec": {
      "display_name": "Python 3",
      "name": "python3"
    },
    "language_info": {
      "codemirror_mode": {
        "name": "ipython",
        "version": 3
      },
      "file_extension": ".py",
      "mimetype": "text/x-python",
      "name": "python",
      "nbconvert_exporter": "python",
      "pygments_lexer": "ipython3",
      "version": "3.9.6"
    },
    "latex_envs": {
      "LaTeX_envs_menu_present": true,
      "autoclose": false,
      "autocomplete": true,
      "bibliofile": "biblio.bib",
      "cite_by": "apalike",
      "current_citInitial": 1,
      "eqLabelWithNumbers": true,
      "eqNumInitial": 1,
      "hotkeys": {
        "equation": "Ctrl-E",
        "itemize": "Ctrl-I"
      },
      "labels_anchors": false,
      "latex_user_defs": false,
      "report_style_numbering": false,
      "user_envs_cfg": false
    },
    "colab": {
      "provenance": [],
      "generative_ai_disabled": true
    }
  },
  "nbformat": 4,
  "nbformat_minor": 5
}