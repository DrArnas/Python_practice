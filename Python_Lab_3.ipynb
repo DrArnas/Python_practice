{
 "cells": [
  {
   "cell_type": "markdown",
   "id": "c6356b94",
   "metadata": {},
   "source": [
    "## Programavimo įvado pratybos\n",
    "\n",
    "Prisijungimas ir užduotys:\n",
    "\n",
    "- Python komandoms prisiminti: ``https://www.w3schools.com/python/``\n",
    "- Komentarai: #\n",
    "- Naudingos PowerShell/Terminal komandos:\n",
    "\n",
    "    - `ls` - pažiūrėti katalogo turinį\n",
    "\n",
    "    - `md` - sukurti naują katalogą\n",
    "\n",
    "    - `cd` - pereiti į katalogą / iš katalogo\n",
    "\n",
    "    - `ni p1.py` - sukuria naują bylą vardu `p1.py`\n",
    "\n",
    "    - `python p1.py` - kompiliuoja Python programą\n",
    "   \n",
    "- Elementarūs matematiniai veiksmai Python:\n",
    "\n",
    "    - `2*3` - daugyba\n",
    "    - `2/3` - dalyba\n",
    "    - `2**3` - kėlimas laipsniu\n",
    "    - `2**(1/2)` - šaknies traukimas"
   ]
  },
  {
   "cell_type": "markdown",
   "id": "054c8e77",
   "metadata": {},
   "source": [
    "## A užduotis"
   ]
  },
  {
   "cell_type": "markdown",
   "id": "6ddb641e",
   "metadata": {
    "heading_collapsed": true
   },
   "source": [
    "#### A1\n",
    "\n",
    "Jums jau sukurtas kintamasis `letters`, pasinaudodami indeksavimu, išrinkite reikalingas raides ir atspausdinkite savo vardą iš didžiosios raidės.\n",
    "\n",
    "Užuomina: Indeksavimas vykdomas laužtinių skliaustų pagalba, pvz. `letters[5]` grąžintų raidę `f`."
   ]
  },
  {
   "cell_type": "code",
   "execution_count": null,
   "id": "d65a28ef",
   "metadata": {
    "hidden": true
   },
   "outputs": [],
   "source": [
    "letters = \"abcdefghijklmnopqrstuvwxyz\"\n"
   ]
  },
  {
   "cell_type": "markdown",
   "id": "581760ef",
   "metadata": {
    "heading_collapsed": true
   },
   "source": [
    "#### A2\n",
    "\n",
    "Sukurkite naują kintamąjį ``auditorija`` ir priskirkite jam savo auditorijos numerį pasinaudodami tik kintamuoju ``digits``. \n",
    "\n",
    "Užuomina: atkreipkite dėmesį, kad kintamsis `digits` yra skaičius, o indeksavimui reikalingas `string` tipo kintamasis."
   ]
  },
  {
   "cell_type": "code",
   "execution_count": null,
   "id": "158bb2bc",
   "metadata": {
    "hidden": true
   },
   "outputs": [],
   "source": [
    "digits = 1234567890"
   ]
  },
  {
   "cell_type": "markdown",
   "id": "da85333d",
   "metadata": {
    "heading_collapsed": true
   },
   "source": [
    "#### A3\n",
    "\n",
    "Jums pateiktas kintamasis `sakinys`. Padalinkite A2 užduotyje sukurtą kintamąjį `auditorija`, iš pateikto sakinio ilgio (simbolių skaičiaus).\n",
    "\n",
    "```\n",
    "Auditorijos numeris: [numeris]\n",
    "Sakinio ilgis: [ilgis]\n",
    "[numeris] // [ilgis] = [dalyba] (liekana [liekana])\n",
    "```\n",
    "\n",
    "Pavyzdžiui, jei auditorijos numeris yra 101, o sakinio ilgis -- 15, tada turite atspausdinti:\n",
    "\n",
    "```\n",
    "Auditorijos numeris: 101\n",
    "Sakinio ilgis: 15\n",
    "101 // 15 = 6 (liekana 11)\n",
    "\n",
    "```"
   ]
  },
  {
   "cell_type": "code",
   "execution_count": null,
   "id": "1820b2d5",
   "metadata": {
    "hidden": true
   },
   "outputs": [],
   "source": [
    "sakinys = \"Kai programuotojas susiduria su sunkumais ieškodamas klaidų, tai reiškia, kad jis ieško ne ten kur reikia.\""
   ]
  },
  {
   "cell_type": "markdown",
   "id": "56406068",
   "metadata": {
    "heading_collapsed": true
   },
   "source": [
    "#### A4\n",
    "\n",
    "Pasinaudokite A3 užduotyje pateiktu kintamuoju `sakinys`. Pakeiskite visas \"s\" raides skaičiumi \"5\"."
   ]
  },
  {
   "cell_type": "code",
   "execution_count": null,
   "id": "6318c26c",
   "metadata": {
    "hidden": true
   },
   "outputs": [],
   "source": []
  },
  {
   "cell_type": "markdown",
   "id": "b6b4f4cc",
   "metadata": {
    "heading_collapsed": true
   },
   "source": [
    "#### A5\n",
    "\n",
    "Jums sukurtas kintamasis, tam tikro duomenų failo antraštinė eilutė su informacija. \n",
    " \n",
    "Parašykite kodą, kuris iš šio kintamojo iškerpa visas penkias skaitines vertes ir priskiria jas naujiems kintamiesiems. Pnaudokite galimybe karpyti \"slicing\". Skaitines vertes atspausinkite.\n",
    "\n",
    "Rezultatą atspausdinkite. Dažniausiai duomenų failai yra standartizuoti, tad parašę kodą kuris iškerpa tam tikrą informaciją iš vieno failo, tas pats kodas veiks ir su kitais atitinkamais duomenų failais."
   ]
  },
  {
   "cell_type": "code",
   "execution_count": null,
   "id": "8737a780",
   "metadata": {
    "hidden": true
   },
   "outputs": [],
   "source": [
    "eilute = \"Radial velocity =   -55.423  dispersion =   0.902  FWHM =  12.129, 912 lines matched out of 5014\"\n",
    "\n",
    "Rv = eilute[20:28]"
   ]
  },
  {
   "cell_type": "markdown",
   "id": "5817922f",
   "metadata": {
    "heading_collapsed": true
   },
   "source": [
    "#### A6\n",
    "\n",
    "Dar kartą atkreipkite dėmesį į duomenų failo anraštę. Joje pateikta informacija apie linijas (šiam momentui nėra svarbu kas tai yra). \n",
    "\n",
    "Apskaičiuokite kiek procentų linijų buvo rasta (matched). Rezultatą atspausdinkite 2 skaičių po kablelio tikslumu. Nepamirškite atspausdinti procento ženklo, pvz. 12.34%."
   ]
  },
  {
   "cell_type": "code",
   "execution_count": null,
   "id": "dfc7ca48",
   "metadata": {
    "hidden": true
   },
   "outputs": [],
   "source": []
  },
  {
   "cell_type": "markdown",
   "id": "599a9842",
   "metadata": {
    "heading_collapsed": true
   },
   "source": [
    "#### A7\n",
    "\n",
    "Pridėkite prie kintamojo ``eilute`` informaciją, kurią suskaičiavote 6-oje užduotyje. Rezultatą atspausdinkite.\n",
    "\n",
    "Atspausdintas rezultatas turėtų atrodyti panašiai: `\"Radial velocity =   -55.423  dispersion =   0.902  FWHM =  12.129, 912 lines matched out of 5014 (12.34%)\"`."
   ]
  },
  {
   "cell_type": "code",
   "execution_count": null,
   "id": "bc14e159",
   "metadata": {
    "hidden": true
   },
   "outputs": [],
   "source": []
  },
  {
   "cell_type": "markdown",
   "id": "b8b1336e",
   "metadata": {},
   "source": [
    "#### A8\n",
    "\n",
    "7-oje užduotyje gautą atsakymą paverskite sąrašu"
   ]
  },
  {
   "cell_type": "code",
   "execution_count": null,
   "id": "890e3a43",
   "metadata": {},
   "outputs": [],
   "source": []
  },
  {
   "cell_type": "markdown",
   "id": "2ea05b38",
   "metadata": {},
   "source": []
  },
  {
   "cell_type": "markdown",
   "id": "adba02f2",
   "metadata": {},
   "source": [
    "## B užduotis\n",
    "\n",
    "Parašykite primityvų kriptografijos algoritmą:"
   ]
  },
  {
   "cell_type": "markdown",
   "id": "2af4675c",
   "metadata": {
    "heading_collapsed": true
   },
   "source": [
    "#### B1\n",
    "\n",
    "Sukurkite kintamąjį:\n",
    "\n",
    "```python\n",
    "letters = \"abcdefghijklmnopqrstuvwxyz \"\n",
    "message = \"slapti egzamino uzduociu atsakymai\"\n",
    "```"
   ]
  },
  {
   "cell_type": "code",
   "execution_count": 9,
   "id": "48fee102",
   "metadata": {
    "hidden": true
   },
   "outputs": [],
   "source": [
    "letters = \"abcdefghijklmnopqrstuvwxyz \"\n",
    "message = \"slapti egzamino uzduociu atsakymai\""
   ]
  },
  {
   "cell_type": "markdown",
   "id": "2abb425c",
   "metadata": {
    "heading_collapsed": true
   },
   "source": [
    "#### B2\n",
    "\n",
    "Sumaišykite kintamojo ``letters`` raidžių tvarką. Rezultatą užsaugokite naujame kintamajame ``code``.\n",
    "\n",
    "Užuomina: https://stackoverflow.com/questions/2668312/shuffle-string-in-python"
   ]
  },
  {
   "cell_type": "code",
   "execution_count": 10,
   "id": "d63ed397",
   "metadata": {
    "hidden": true
   },
   "outputs": [
    {
     "name": "stdout",
     "output_type": "stream",
     "text": [
      "frxyvdoa squtpkclhmzbiewgjn\n"
     ]
    }
   ],
   "source": [
    "import random\n",
    "code = ''.join(random.sample(letters,len(letters)))\n",
    "print(code)"
   ]
  },
  {
   "cell_type": "markdown",
   "id": "bcaddabe",
   "metadata": {
    "heading_collapsed": true
   },
   "source": [
    "#### B3\n",
    "\n",
    "Užkoduokite kintamąjį ``message`` pakeisdami raides pagal ``code`` tvarką. \n",
    "\n",
    "Pavyzdžiui, jei ``code = \"ijk...\"``, tada raidė ``a`` turi būti pakeista raide ``i``, raidė ``b`` - raide ``j``, raidė ``c`` - raide ``k``, ir t.t. \n",
    "\n",
    "Rezultatą atspausdinkite. Užuominos: \n",
    "\n",
    "https://www.w3schools.com/python/python_for_loops.asp\n",
    "\n",
    "https://stackoverflow.com/questions/2294493/how-to-get-the-position-of-a-character-in-python"
   ]
  },
  {
   "cell_type": "code",
   "execution_count": 11,
   "id": "a65984d1",
   "metadata": {
    "hidden": true
   },
   "outputs": [
    {
     "name": "stdout",
     "output_type": "stream",
     "text": [
      "mufcz nvojft pknbjybkx bnfzmfqgtf \n"
     ]
    }
   ],
   "source": [
    "encrypted = \"\"\n",
    "for s in message:\n",
    "    n = letters.find(s)\n",
    "    encrypted += code[n]\n",
    "print(encrypted)"
   ]
  },
  {
   "cell_type": "markdown",
   "id": "53c0ef17",
   "metadata": {
    "heading_collapsed": true
   },
   "source": [
    "#### B4\n",
    "\n",
    "Pasinaudodami kodu\n",
    "\n",
    "```python\n",
    "code = \"zxfdbhtja epqucovgwlsykmnir\"\n",
    "```\n",
    "\n",
    "atkoduokite žinutę\n",
    "\n",
    "```python\n",
    "message = \"zlb zsrozqzfazsrustzpb zs\"\n",
    "```\n",
    "\n",
    "Rezultatą atspausdinkite."
   ]
  },
  {
   "cell_type": "code",
   "execution_count": 12,
   "id": "52a14ce0",
   "metadata": {
    "hidden": true
   },
   "outputs": [],
   "source": [
    "code    = \"zxfdbhtja epqucovgwlsykmnir\"\n",
    "letters = \"abcdefghijklmnopqrstuvwxyz \"\n",
    "message = \"zlb zsrozqzfazsrustzpb zs\""
   ]
  },
  {
   "cell_type": "code",
   "execution_count": 13,
   "id": "62d5e203",
   "metadata": {
    "hidden": true
   },
   "outputs": [
    {
     "name": "stdout",
     "output_type": "stream",
     "text": [
      "atejau pamaciau nugalejau\n"
     ]
    }
   ],
   "source": [
    "decrypted = \"\"\n",
    "for s in message:\n",
    "    n = code.find(s)\n",
    "    decrypted += letters[n]\n",
    "print(decrypted)"
   ]
  },
  {
   "cell_type": "markdown",
   "id": "7f454b2f",
   "metadata": {},
   "source": [
    "## Sandbox"
   ]
  },
  {
   "cell_type": "code",
   "execution_count": null,
   "id": "89a48d91",
   "metadata": {},
   "outputs": [],
   "source": []
  }
 ],
 "metadata": {
  "kernelspec": {
   "display_name": "Python 3",
   "language": "python",
   "name": "python3"
  },
  "language_info": {
   "codemirror_mode": {
    "name": "ipython",
    "version": 3
   },
   "file_extension": ".py",
   "mimetype": "text/x-python",
   "name": "python",
   "nbconvert_exporter": "python",
   "pygments_lexer": "ipython3",
   "version": "3.9.6"
  },
  "latex_envs": {
   "LaTeX_envs_menu_present": true,
   "autoclose": false,
   "autocomplete": true,
   "bibliofile": "biblio.bib",
   "cite_by": "apalike",
   "current_citInitial": 1,
   "eqLabelWithNumbers": true,
   "eqNumInitial": 1,
   "hotkeys": {
    "equation": "Ctrl-E",
    "itemize": "Ctrl-I"
   },
   "labels_anchors": false,
   "latex_user_defs": false,
   "report_style_numbering": false,
   "user_envs_cfg": false
  }
 },
 "nbformat": 4,
 "nbformat_minor": 5
}
