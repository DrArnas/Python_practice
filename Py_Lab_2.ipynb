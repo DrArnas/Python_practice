{
  "cells": [
    {
      "cell_type": "markdown",
      "id": "c6356b94",
      "metadata": {
        "id": "c6356b94"
      },
      "source": [
        "## Programavimo įvado pratybos\n",
        "\n",
        "Prisijungimas ir užduotys:\n",
        "\n",
        "- Python komandoms prisiminti: ``https://www.w3schools.com/python/``\n",
        "- Komentarai: # A1\n",
        "- Naudingos PowerShell/Terminal komandos:\n",
        "\n",
        "    - `ls` - pažiūrėti katalogo turinį\n",
        "\n",
        "    - `md` - sukurti naują katalogą\n",
        "\n",
        "    - `cd` - pereiti į katalogą / iš katalogo\n",
        "\n",
        "    - `ni p1.py` - sukuria naują bylą vardu `p1.py`\n",
        "\n",
        "    - `python p1.py` - kompiliuoja Python programą\n",
        "   \n",
        "- Elementarūs matematiniai veiksmai Python:\n",
        "\n",
        "    - `2*3` - daugyba\n",
        "    - `2/3` - dalyba\n",
        "    - `2**3` - kėlimas laipsniu\n",
        "    - `2**(1/2)` - šaknies traukimas"
      ]
    },
    {
      "cell_type": "markdown",
      "id": "054c8e77",
      "metadata": {
        "id": "054c8e77"
      },
      "source": [
        "## A užduotis"
      ]
    },
    {
      "cell_type": "markdown",
      "id": "6ddb641e",
      "metadata": {
        "heading_collapsed": true,
        "id": "6ddb641e"
      },
      "source": [
        "#### A1\n",
        "\n",
        "Sukurkite kintamuosius `x`, `y` ir priskirikite jiems pasirinktas skaitines vertes."
      ]
    },
    {
      "cell_type": "code",
      "execution_count": null,
      "id": "d65a28ef",
      "metadata": {
        "hidden": true,
        "id": "d65a28ef"
      },
      "outputs": [],
      "source": []
    },
    {
      "cell_type": "markdown",
      "id": "581760ef",
      "metadata": {
        "heading_collapsed": true,
        "id": "581760ef"
      },
      "source": [
        "#### A2\n",
        "\n",
        "Atspausdinkite `x` ir `y` vertes vienoje eilutėje tokiu formatu: `x = 5, y = 9`."
      ]
    },
    {
      "cell_type": "code",
      "execution_count": null,
      "id": "9e243dca",
      "metadata": {
        "hidden": true,
        "id": "9e243dca",
        "outputId": "182e06d5-9e53-4388-9f29-c4afabbc3cd7"
      },
      "outputs": [
        {
          "name": "stdout",
          "output_type": "stream",
          "text": [
            "x = 3, y = 5\n"
          ]
        }
      ],
      "source": []
    },
    {
      "cell_type": "markdown",
      "id": "b28caa26",
      "metadata": {
        "heading_collapsed": true,
        "id": "b28caa26"
      },
      "source": [
        "#### A3\n",
        "\n",
        "Suskaičiuokite `x` ir `y` sumą. Ją priskirkite naujam kintamajam `z`. Rezultatą atspausdinkite."
      ]
    },
    {
      "cell_type": "code",
      "execution_count": null,
      "id": "ba088d64",
      "metadata": {
        "hidden": true,
        "id": "ba088d64",
        "outputId": "88143645-4b51-4d20-b7cc-fc0dba600876"
      },
      "outputs": [
        {
          "name": "stdout",
          "output_type": "stream",
          "text": [
            "x + y = 8\n"
          ]
        }
      ],
      "source": []
    },
    {
      "cell_type": "markdown",
      "id": "da85333d",
      "metadata": {
        "heading_collapsed": true,
        "id": "da85333d"
      },
      "source": [
        "#### A4\n",
        "\n",
        "Pakelkite `x` ir `y` laipsniu `z`. Rezultatą atspausdinkite vienoje eilutėje."
      ]
    },
    {
      "cell_type": "code",
      "execution_count": null,
      "id": "1820b2d5",
      "metadata": {
        "hidden": true,
        "id": "1820b2d5",
        "outputId": "bb1b170e-01ce-4cb7-e24a-c7bb10fb546d"
      },
      "outputs": [
        {
          "name": "stdout",
          "output_type": "stream",
          "text": [
            "x^z = 6561, y^z = 390625\n"
          ]
        }
      ],
      "source": []
    },
    {
      "cell_type": "markdown",
      "id": "56406068",
      "metadata": {
        "heading_collapsed": true,
        "id": "56406068"
      },
      "source": [
        "#### A5\n",
        "\n",
        "Apskaičiuokite kvadratines `x` ir `y` šaknis. Tada apskaičiuokite kubinę `z` šaknį. <br>\n",
        "Rezultatą atspausdinkite viena komanda dviejose eilutėse."
      ]
    },
    {
      "cell_type": "code",
      "execution_count": null,
      "id": "6318c26c",
      "metadata": {
        "hidden": true,
        "id": "6318c26c",
        "outputId": "75a14376-2552-4641-cea4-e6cf2f22da00"
      },
      "outputs": [
        {
          "name": "stdout",
          "output_type": "stream",
          "text": [
            "x^(1/2) = 1.7320508075688772, y^(1/2) = 2.23606797749979\n",
            "z^(1/3) = 2.0\n"
          ]
        }
      ],
      "source": []
    },
    {
      "cell_type": "markdown",
      "id": "b6b4f4cc",
      "metadata": {
        "heading_collapsed": true,
        "id": "b6b4f4cc"
      },
      "source": [
        "#### A6\n",
        "\n",
        "Apskaičiuokite $r_1$ ir $r_2$:\n",
        "\n",
        "$r_1 = (x+y)(x-y)$\n",
        "\n",
        "$r_2 = \\dfrac{x+y}{x-y}$\n",
        "\n",
        "Rezultatą atspausdinkite viena komanda dviejose eilutėse."
      ]
    },
    {
      "cell_type": "code",
      "execution_count": null,
      "id": "8737a780",
      "metadata": {
        "hidden": true,
        "id": "8737a780",
        "outputId": "b4fc153c-96e3-43ed-d144-3d077ac13107"
      },
      "outputs": [
        {
          "name": "stdout",
          "output_type": "stream",
          "text": [
            "(x+y)*(x-y) = -16\n",
            "(x+y)/(x-y) = -4.0\n"
          ]
        }
      ],
      "source": []
    },
    {
      "cell_type": "markdown",
      "id": "5817922f",
      "metadata": {
        "heading_collapsed": true,
        "id": "5817922f"
      },
      "source": [
        "#### A7\n",
        "\n",
        "Įveskite savo vardą klaviatūra ir priskirkite naujam kintamajam."
      ]
    },
    {
      "cell_type": "code",
      "execution_count": null,
      "id": "dfc7ca48",
      "metadata": {
        "hidden": true,
        "id": "dfc7ca48",
        "outputId": "ccdad9fe-4047-4445-c221-d87ec975c9ed"
      },
      "outputs": [
        {
          "name": "stdout",
          "output_type": "stream",
          "text": [
            "koks tavo vardas? jonas\n"
          ]
        }
      ],
      "source": []
    },
    {
      "cell_type": "markdown",
      "id": "599a9842",
      "metadata": {
        "heading_collapsed": true,
        "id": "599a9842"
      },
      "source": [
        "#### A8\n",
        "\n",
        "Įveskite mėgstamą natūralų skaičių klaviatūra ir priskirkite naujam kintamajam."
      ]
    },
    {
      "cell_type": "code",
      "execution_count": null,
      "id": "bc14e159",
      "metadata": {
        "hidden": true,
        "id": "bc14e159",
        "outputId": "32b94acd-bf18-49d5-e272-f731cef99aad"
      },
      "outputs": [
        {
          "name": "stdout",
          "output_type": "stream",
          "text": [
            "koks tavo megstamas skaicius? 5\n"
          ]
        }
      ],
      "source": []
    },
    {
      "cell_type": "markdown",
      "id": "d7273f92",
      "metadata": {
        "heading_collapsed": true,
        "id": "d7273f92"
      },
      "source": [
        "#### A9\n",
        "\n",
        "Atspausdinkite savo vardą."
      ]
    },
    {
      "cell_type": "code",
      "execution_count": null,
      "id": "752ceae1",
      "metadata": {
        "hidden": true,
        "id": "752ceae1",
        "outputId": "d94af5ab-5421-44af-fd75-50041016245b"
      },
      "outputs": [
        {
          "name": "stdout",
          "output_type": "stream",
          "text": [
            "jonas\n"
          ]
        }
      ],
      "source": []
    },
    {
      "cell_type": "markdown",
      "id": "22db6b32",
      "metadata": {
        "heading_collapsed": true,
        "id": "22db6b32"
      },
      "source": [
        "#### A10\n",
        "\n",
        "Atspausdinkite `'Mano vardas yra [vardas] ir aš mėgstu skaičių [skaicius]'`."
      ]
    },
    {
      "cell_type": "code",
      "execution_count": null,
      "id": "23a51bd4",
      "metadata": {
        "hidden": true,
        "id": "23a51bd4",
        "outputId": "d38d1a56-ad71-46a3-c598-2d4b8c20c17d"
      },
      "outputs": [
        {
          "name": "stdout",
          "output_type": "stream",
          "text": [
            "Mano vardas yra jonas ir aš mėgstu skaičių 5\n"
          ]
        }
      ],
      "source": []
    },
    {
      "cell_type": "code",
      "execution_count": null,
      "id": "5845be90",
      "metadata": {
        "hidden": true,
        "id": "5845be90",
        "outputId": "5a72a064-c1de-4555-ee5b-4c685efccb94"
      },
      "outputs": [
        {
          "name": "stdout",
          "output_type": "stream",
          "text": [
            "Mano vardas yra jonas ir aš mėgstu skaičių 5\n"
          ]
        }
      ],
      "source": []
    },
    {
      "cell_type": "markdown",
      "id": "bb16e287",
      "metadata": {
        "heading_collapsed": true,
        "id": "bb16e287"
      },
      "source": [
        "#### A11\n",
        "\n",
        "Atspausdinkite savo vardą tiek kartų kokį skaičių įvedėte 8 užduotyje.\n",
        "\n",
        "Naudokite ``int()`` funkciją tekstą paversti skaičiumi."
      ]
    },
    {
      "cell_type": "code",
      "execution_count": null,
      "id": "ffc64e09",
      "metadata": {
        "hidden": true,
        "id": "ffc64e09",
        "outputId": "3aae7578-f66f-4928-ce3c-8555e5581552"
      },
      "outputs": [
        {
          "name": "stdout",
          "output_type": "stream",
          "text": [
            "jonasjonasjonasjonasjonas\n"
          ]
        }
      ],
      "source": []
    },
    {
      "cell_type": "markdown",
      "id": "3c1a6eb4",
      "metadata": {
        "heading_collapsed": true,
        "id": "3c1a6eb4"
      },
      "source": [
        "#### A12\n",
        "\n",
        "Įveskite mėgstamą spalvą klaviatūra ir priskirkite naujam kintamajam."
      ]
    },
    {
      "cell_type": "code",
      "execution_count": null,
      "id": "47cd9c51",
      "metadata": {
        "hidden": true,
        "id": "47cd9c51"
      },
      "outputs": [],
      "source": []
    },
    {
      "cell_type": "markdown",
      "id": "cc45e7fd",
      "metadata": {
        "heading_collapsed": true,
        "id": "cc45e7fd"
      },
      "source": [
        "#### A13\n",
        "\n",
        "Atspausdinkite 7 ir 12 užduočių kintamųjų sumą."
      ]
    },
    {
      "cell_type": "code",
      "execution_count": null,
      "id": "92ac1b72",
      "metadata": {
        "hidden": true,
        "id": "92ac1b72"
      },
      "outputs": [],
      "source": []
    },
    {
      "cell_type": "markdown",
      "id": "adba02f2",
      "metadata": {
        "id": "adba02f2"
      },
      "source": [
        "## B užduotis\n",
        "\n",
        "Parašykite Python programą, kuri:"
      ]
    },
    {
      "cell_type": "markdown",
      "id": "2af4675c",
      "metadata": {
        "heading_collapsed": true,
        "id": "2af4675c"
      },
      "source": [
        "#### B1\n",
        "\n",
        "Paprašo įvesti lygiakraščio daugiakampio kraštinės ilgį ir kampų skaičių."
      ]
    },
    {
      "cell_type": "code",
      "execution_count": null,
      "id": "48fee102",
      "metadata": {
        "hidden": true,
        "id": "48fee102"
      },
      "outputs": [],
      "source": []
    },
    {
      "cell_type": "markdown",
      "id": "2abb425c",
      "metadata": {
        "heading_collapsed": true,
        "id": "2abb425c"
      },
      "source": [
        "#### B2\n",
        "\n",
        "Suskaičiuoja nurodyto daugiakampio plotą.\n",
        "\n",
        "https://www.wikihow.com/Find-the-Area-of-Regular-Polygons"
      ]
    },
    {
      "cell_type": "code",
      "execution_count": null,
      "id": "d63ed397",
      "metadata": {
        "hidden": true,
        "id": "d63ed397"
      },
      "outputs": [],
      "source": []
    },
    {
      "cell_type": "markdown",
      "id": "bcaddabe",
      "metadata": {
        "heading_collapsed": true,
        "id": "bcaddabe"
      },
      "source": [
        "#### B3\n",
        "\n",
        "Rezultatą atspausdina ekrane."
      ]
    },
    {
      "cell_type": "code",
      "execution_count": null,
      "id": "955b9795",
      "metadata": {
        "hidden": true,
        "id": "955b9795"
      },
      "outputs": [],
      "source": []
    },
    {
      "cell_type": "markdown",
      "id": "7f454b2f",
      "metadata": {
        "id": "7f454b2f"
      },
      "source": [
        "## Sandbox"
      ]
    },
    {
      "cell_type": "code",
      "execution_count": null,
      "id": "89a48d91",
      "metadata": {
        "id": "89a48d91"
      },
      "outputs": [],
      "source": []
    }
  ],
  "metadata": {
    "kernelspec": {
      "display_name": "Python 3",
      "name": "python3"
    },
    "language_info": {
      "codemirror_mode": {
        "name": "ipython",
        "version": 3
      },
      "file_extension": ".py",
      "mimetype": "text/x-python",
      "name": "python",
      "nbconvert_exporter": "python",
      "pygments_lexer": "ipython3",
      "version": "3.9.13"
    },
    "latex_envs": {
      "LaTeX_envs_menu_present": true,
      "autoclose": false,
      "autocomplete": true,
      "bibliofile": "biblio.bib",
      "cite_by": "apalike",
      "current_citInitial": 1,
      "eqLabelWithNumbers": true,
      "eqNumInitial": 1,
      "hotkeys": {
        "equation": "Ctrl-E",
        "itemize": "Ctrl-I"
      },
      "labels_anchors": false,
      "latex_user_defs": false,
      "report_style_numbering": false,
      "user_envs_cfg": false
    },
    "colab": {
      "provenance": [],
      "generative_ai_disabled": true
    }
  },
  "nbformat": 4,
  "nbformat_minor": 5
}