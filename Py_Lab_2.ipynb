{
 "cells": [
  {
   "cell_type": "markdown",
   "id": "c6356b94",
   "metadata": {},
   "source": [
    "## Programavimo įvado pratybos\n",
    "\n",
    "Prisijungimas ir užduotys:\n",
    "\n",
    "- Login: pipp23\n",
    "- Slaptažodis: X3MRdyc\n",
    "- Python komandoms prisiminti: ``https://www.w3schools.com/python/``\n",
    "- Komentarai: # A1\n",
    "- Naudingos PowerShell/Terminal komandos:\n",
    "\n",
    "    - `ls` - pažiūrėti katalogo turinį\n",
    "\n",
    "    - `md` - sukurti naują katalogą\n",
    "\n",
    "    - `cd` - pereiti į katalogą / iš katalogo\n",
    "\n",
    "    - `ni p1.py` - sukuria naują bylą vardu `p1.py`\n",
    "\n",
    "    - `python p1.py` - kompiliuoja Python programą\n",
    "   \n",
    "- Elementarūs matematiniai veiksmai Python:\n",
    "\n",
    "    - `2*3` - daugyba\n",
    "    - `2/3` - dalyba\n",
    "    - `2**3` - kėlimas laipsniu\n",
    "    - `2**(1/2)` - šaknies traukimas"
   ]
  },
  {
   "cell_type": "markdown",
   "id": "054c8e77",
   "metadata": {},
   "source": [
    "## A užduotis"
   ]
  },
  {
   "cell_type": "markdown",
   "id": "6ddb641e",
   "metadata": {
    "heading_collapsed": true
   },
   "source": [
    "#### A1\n",
    "\n",
    "Sukurkite kintamuosius `x`, `y` ir priskirikite jiems pasirinktas skaitines vertes."
   ]
  },
  {
   "cell_type": "code",
   "execution_count": 1,
   "id": "d65a28ef",
   "metadata": {
    "hidden": true
   },
   "outputs": [],
   "source": [
    "x = 3\n",
    "y = 5"
   ]
  },
  {
   "cell_type": "markdown",
   "id": "581760ef",
   "metadata": {
    "heading_collapsed": true
   },
   "source": [
    "#### A2\n",
    "\n",
    "Atspausdinkite `x` ir `y` vertes vienoje eilutėje tokiu formatu: `x = 5, y = 9`."
   ]
  },
  {
   "cell_type": "code",
   "execution_count": 2,
   "id": "158bb2bc",
   "metadata": {
    "hidden": true
   },
   "outputs": [
    {
     "name": "stdout",
     "output_type": "stream",
     "text": [
      "x = 3 , y = 5\n"
     ]
    }
   ],
   "source": [
    "print(\"x =\", x, \", y =\", y)"
   ]
  },
  {
   "cell_type": "code",
   "execution_count": 3,
   "id": "9e243dca",
   "metadata": {
    "hidden": true
   },
   "outputs": [
    {
     "name": "stdout",
     "output_type": "stream",
     "text": [
      "x = 3, y = 5\n"
     ]
    }
   ],
   "source": [
    "print('x = ', x, ', y = ', y, sep='')"
   ]
  },
  {
   "cell_type": "markdown",
   "id": "b28caa26",
   "metadata": {
    "heading_collapsed": true
   },
   "source": [
    "#### A3\n",
    "\n",
    "Suskaičiuokite `x` ir `y` sumą. Ją priskirkite naujam kintamajam `z`. Rezultatą atspausdinkite."
   ]
  },
  {
   "cell_type": "code",
   "execution_count": 4,
   "id": "ba088d64",
   "metadata": {
    "hidden": true
   },
   "outputs": [
    {
     "name": "stdout",
     "output_type": "stream",
     "text": [
      "x + y = 8\n"
     ]
    }
   ],
   "source": [
    "z = x + y\n",
    "print('x + y =', z)"
   ]
  },
  {
   "cell_type": "markdown",
   "id": "da85333d",
   "metadata": {
    "heading_collapsed": true
   },
   "source": [
    "#### A4\n",
    "\n",
    "Pakelkite `x` ir `y` laipsniu `z`. Rezultatą atspausdinkite vienoje eilutėje."
   ]
  },
  {
   "cell_type": "code",
   "execution_count": 5,
   "id": "1820b2d5",
   "metadata": {
    "hidden": true
   },
   "outputs": [
    {
     "name": "stdout",
     "output_type": "stream",
     "text": [
      "x^z = 6561, y^z = 390625\n"
     ]
    }
   ],
   "source": [
    "print('x^z = ', x**z, ', y^z = ', y**z, sep='')"
   ]
  },
  {
   "cell_type": "markdown",
   "id": "56406068",
   "metadata": {
    "heading_collapsed": true
   },
   "source": [
    "#### A5\n",
    "\n",
    "Apskaičiuokite kvadratines `x` ir `y` šaknis. Tada apskaičiuokite kubinę `z` šaknį. <br>\n",
    "Rezultatą atspausdinkite viena komanda dviejose eilutėse."
   ]
  },
  {
   "cell_type": "code",
   "execution_count": 6,
   "id": "6318c26c",
   "metadata": {
    "hidden": true
   },
   "outputs": [
    {
     "name": "stdout",
     "output_type": "stream",
     "text": [
      "x^(1/2) = 1.7320508075688772, y^(1/2) = 2.23606797749979\n",
      "z^(1/3) = 2.0\n"
     ]
    }
   ],
   "source": [
    "print('x^(1/2) = ', x**(1/2), ', y^(1/2) = ', y**(1/2), '\\nz^(1/3) = ', z**(1/3), sep='')"
   ]
  },
  {
   "cell_type": "markdown",
   "id": "b6b4f4cc",
   "metadata": {
    "heading_collapsed": true
   },
   "source": [
    "#### A6\n",
    "\n",
    "Apskaičiuokite $r_1$ ir $r_2$:\n",
    "\n",
    "$r_1 = (x+y)(x-y)$\n",
    "\n",
    "$r_2 = \\dfrac{x+y}{x-y}$\n",
    "\n",
    "Rezultatą atspausdinkite viena komanda dviejose eilutėse."
   ]
  },
  {
   "cell_type": "code",
   "execution_count": 7,
   "id": "8737a780",
   "metadata": {
    "hidden": true
   },
   "outputs": [
    {
     "name": "stdout",
     "output_type": "stream",
     "text": [
      "(x+y)*(x-y) = -16\n",
      "(x+y)/(x-y) = -4.0\n"
     ]
    }
   ],
   "source": [
    "r1 = (x+y)*(x-y)\n",
    "r2 = (x+y)/(x-y)\n",
    "\n",
    "print('(x+y)*(x-y) = ', r1, '\\n(x+y)/(x-y) = ', r2, sep='')"
   ]
  },
  {
   "cell_type": "markdown",
   "id": "5817922f",
   "metadata": {
    "heading_collapsed": true
   },
   "source": [
    "#### A7\n",
    "\n",
    "Įveskite savo vardą klaviatūra ir priskirkite naujam kintamajam."
   ]
  },
  {
   "cell_type": "code",
   "execution_count": 8,
   "id": "dfc7ca48",
   "metadata": {
    "hidden": true
   },
   "outputs": [
    {
     "name": "stdout",
     "output_type": "stream",
     "text": [
      "koks tavo vardas? jonas\n"
     ]
    }
   ],
   "source": [
    "vardas = input('koks tavo vardas? ')"
   ]
  },
  {
   "cell_type": "markdown",
   "id": "599a9842",
   "metadata": {
    "heading_collapsed": true
   },
   "source": [
    "#### A8\n",
    "\n",
    "Įveskite mėgstamą natūralų skaičių klaviatūra ir priskirkite naujam kintamajam."
   ]
  },
  {
   "cell_type": "code",
   "execution_count": 9,
   "id": "bc14e159",
   "metadata": {
    "hidden": true
   },
   "outputs": [
    {
     "name": "stdout",
     "output_type": "stream",
     "text": [
      "koks tavo megstamas skaicius? 5\n"
     ]
    }
   ],
   "source": [
    "skaicius = input('koks tavo megstamas skaicius? ')"
   ]
  },
  {
   "cell_type": "markdown",
   "id": "d7273f92",
   "metadata": {
    "heading_collapsed": true
   },
   "source": [
    "#### A9\n",
    "\n",
    "Atspausdinkite savo vardą."
   ]
  },
  {
   "cell_type": "code",
   "execution_count": 10,
   "id": "752ceae1",
   "metadata": {
    "hidden": true
   },
   "outputs": [
    {
     "name": "stdout",
     "output_type": "stream",
     "text": [
      "jonas\n"
     ]
    }
   ],
   "source": [
    "print(vardas)"
   ]
  },
  {
   "cell_type": "markdown",
   "id": "22db6b32",
   "metadata": {
    "heading_collapsed": true
   },
   "source": [
    "#### A10\n",
    "\n",
    "Atspausdinkite `'Mano vardas yra [vardas] ir aš mėgstu skaičių [skaicius]'`."
   ]
  },
  {
   "cell_type": "code",
   "execution_count": 11,
   "id": "23a51bd4",
   "metadata": {
    "hidden": true
   },
   "outputs": [
    {
     "name": "stdout",
     "output_type": "stream",
     "text": [
      "Mano vardas yra jonas ir aš mėgstu skaičių 5\n"
     ]
    }
   ],
   "source": [
    "print('Mano vardas yra '+vardas+' ir aš mėgstu skaičių '+skaicius)"
   ]
  },
  {
   "cell_type": "code",
   "execution_count": 12,
   "id": "5845be90",
   "metadata": {
    "hidden": true
   },
   "outputs": [
    {
     "name": "stdout",
     "output_type": "stream",
     "text": [
      "Mano vardas yra jonas ir aš mėgstu skaičių 5\n"
     ]
    }
   ],
   "source": [
    "print('Mano vardas yra', vardas, 'ir aš mėgstu skaičių', skaicius)"
   ]
  },
  {
   "cell_type": "markdown",
   "id": "bb16e287",
   "metadata": {
    "heading_collapsed": true
   },
   "source": [
    "#### A11\n",
    "\n",
    "Atspausdinkite savo vardą tiek kartų kokį skaičių įvedėte 8 užduotyje.\n",
    "\n",
    "Naudokite ``int()`` funkciją tekstą paversti skaičiumi."
   ]
  },
  {
   "cell_type": "code",
   "execution_count": 13,
   "id": "ffc64e09",
   "metadata": {
    "hidden": true
   },
   "outputs": [
    {
     "name": "stdout",
     "output_type": "stream",
     "text": [
      "jonasjonasjonasjonasjonas\n"
     ]
    }
   ],
   "source": [
    "print(int(skaicius)*vardas)"
   ]
  },
  {
   "cell_type": "markdown",
   "id": "3c1a6eb4",
   "metadata": {
    "heading_collapsed": true
   },
   "source": [
    "#### A12\n",
    "\n",
    "Įveskite mėgstamą spalvą klaviatūra ir priskirkite naujam kintamajam."
   ]
  },
  {
   "cell_type": "code",
   "execution_count": null,
   "id": "47cd9c51",
   "metadata": {
    "hidden": true
   },
   "outputs": [],
   "source": [
    "spalva = input('kokia tavo megstamiausia spalva ? ')"
   ]
  },
  {
   "cell_type": "markdown",
   "id": "cc45e7fd",
   "metadata": {
    "heading_collapsed": true
   },
   "source": [
    "#### A13\n",
    "\n",
    "Atspausdinkite 7 ir 12 užduočių kintamųjų sumą."
   ]
  },
  {
   "cell_type": "code",
   "execution_count": null,
   "id": "92ac1b72",
   "metadata": {
    "hidden": true
   },
   "outputs": [],
   "source": [
    "print(vardas + spalva)"
   ]
  },
  {
   "cell_type": "markdown",
   "id": "adba02f2",
   "metadata": {},
   "source": [
    "## B užduotis\n",
    "\n",
    "Parašykite Python programą, kuri:"
   ]
  },
  {
   "cell_type": "markdown",
   "id": "2af4675c",
   "metadata": {
    "heading_collapsed": true
   },
   "source": [
    "#### B1\n",
    "\n",
    "Paprašo įvesti lygiakraščio daugiakampio kraštinės ilgį ir kampų skaičių."
   ]
  },
  {
   "cell_type": "code",
   "execution_count": null,
   "id": "48fee102",
   "metadata": {
    "hidden": true
   },
   "outputs": [],
   "source": [
    "s = int(input('Įveskite kraštinės ilgį: '))\n",
    "n = int(input('Įveskite kampų skaičių: '))"
   ]
  },
  {
   "cell_type": "markdown",
   "id": "2abb425c",
   "metadata": {
    "heading_collapsed": true
   },
   "source": [
    "#### B2\n",
    "\n",
    "Suskaičiuoja nurodyto daugiakampio plotą.\n",
    "\n",
    "https://www.wikihow.com/Find-the-Area-of-Regular-Polygons"
   ]
  },
  {
   "cell_type": "code",
   "execution_count": null,
   "id": "d63ed397",
   "metadata": {
    "hidden": true
   },
   "outputs": [],
   "source": [
    "import math \n",
    "\n",
    "p = s*n\n",
    "a = s / ( 2*math.tan(math.pi/n) )\n",
    "A = p*a/2"
   ]
  },
  {
   "cell_type": "code",
   "execution_count": null,
   "id": "8d807f24",
   "metadata": {
    "hidden": true
   },
   "outputs": [],
   "source": [
    "a"
   ]
  },
  {
   "cell_type": "markdown",
   "id": "bcaddabe",
   "metadata": {
    "heading_collapsed": true
   },
   "source": [
    "#### B3\n",
    "\n",
    "Rezultatą atspausdina ekrane."
   ]
  },
  {
   "cell_type": "code",
   "execution_count": null,
   "id": "955b9795",
   "metadata": {
    "hidden": true
   },
   "outputs": [],
   "source": [
    "print(f\"Nurodyto {n}-kampio plotas yra {A:2.2f}\")"
   ]
  },
  {
   "cell_type": "markdown",
   "id": "7f454b2f",
   "metadata": {},
   "source": [
    "## Sandbox"
   ]
  },
  {
   "cell_type": "code",
   "execution_count": null,
   "id": "89a48d91",
   "metadata": {},
   "outputs": [],
   "source": []
  }
 ],
 "metadata": {
  "kernelspec": {
   "display_name": "Python 3 (ipykernel)",
   "language": "python",
   "name": "python3"
  },
  "language_info": {
   "codemirror_mode": {
    "name": "ipython",
    "version": 3
   },
   "file_extension": ".py",
   "mimetype": "text/x-python",
   "name": "python",
   "nbconvert_exporter": "python",
   "pygments_lexer": "ipython3",
   "version": "3.9.13"
  },
  "latex_envs": {
   "LaTeX_envs_menu_present": true,
   "autoclose": false,
   "autocomplete": true,
   "bibliofile": "biblio.bib",
   "cite_by": "apalike",
   "current_citInitial": 1,
   "eqLabelWithNumbers": true,
   "eqNumInitial": 1,
   "hotkeys": {
    "equation": "Ctrl-E",
    "itemize": "Ctrl-I"
   },
   "labels_anchors": false,
   "latex_user_defs": false,
   "report_style_numbering": false,
   "user_envs_cfg": false
  }
 },
 "nbformat": 4,
 "nbformat_minor": 5
}
