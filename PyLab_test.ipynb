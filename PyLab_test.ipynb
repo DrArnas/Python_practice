{
 "cells": [
  {
   "cell_type": "markdown",
   "id": "be06dcea-9d5e-491c-ac3c-ddacba2639d9",
   "metadata": {},
   "source": [
    "## A short introduction to date and time in Python"
   ]
  },
  {
   "cell_type": "markdown",
   "id": "602a0260-d3ae-4553-830b-87e79e4b544c",
   "metadata": {},
   "source": [
    "These exercises are made so you can practice your skills in using date and time with python. \n",
    "\n",
    "As with any other package, you have to import libraries that deal with time:"
   ]
  },
  {
   "cell_type": "code",
   "execution_count": 3,
   "id": "b26e354b-de1d-469f-b09d-0401e4bfe25a",
   "metadata": {},
   "outputs": [],
   "source": [
    "import time as t\n",
    "import datetime as dt"
   ]
  },
  {
   "cell_type": "markdown",
   "id": "30b812b1-0ac7-42be-95ef-cd818bff9496",
   "metadata": {},
   "source": [
    "### 1. Getting the time. For this part use time library"
   ]
  },
  {
   "cell_type": "markdown",
   "id": "8120353d-5d0d-4c3d-b238-ede0848b2d13",
   "metadata": {},
   "source": [
    "Get the current:\n",
    "* timestamp (Unix time)\n",
    "* localtime \n"
   ]
  },
  {
   "cell_type": "code",
   "execution_count": 25,
   "id": "1b1a30bd-1b44-4f80-bc6d-4e4870c28a3e",
   "metadata": {},
   "outputs": [
    {
     "name": "stdout",
     "output_type": "stream",
     "text": [
      "1733324069.7383935\n",
      "Wed Dec  4 16:54:29 2024\n"
     ]
    }
   ],
   "source": [
    "timestamp = t.time()\n",
    "localt = t.ctime()\n",
    "print(timestamp)\n",
    "print(localt)"
   ]
  },
  {
   "cell_type": "markdown",
   "id": "1cb747ba-59d7-41de-b1e8-fcdeb3d1bca2",
   "metadata": {},
   "source": [
    "Get the current time and display it in the format 2024-Dec-07 11:00:00. Use [``.localtime()``](https://www.geeksforgeeks.org/python-time-localtime-method/) and [``.strftime()``](https://www.tutorialspoint.com/python/time_strftime.htm)"
   ]
  },
  {
   "cell_type": "code",
   "execution_count": 30,
   "id": "0ca2a2e0-0e45-47c9-a4a1-92a500af4b34",
   "metadata": {},
   "outputs": [
    {
     "data": {
      "text/plain": [
       "'2024-Dec-04 16:57:41'"
      ]
     },
     "execution_count": 30,
     "metadata": {},
     "output_type": "execute_result"
    }
   ],
   "source": [
    "t.strftime(\"%Y-%b-%d %H:%M:%S\", t.localtime())"
   ]
  },
  {
   "cell_type": "markdown",
   "id": "7ac31191-0da9-48d4-ad5d-efbccfe98b85",
   "metadata": {},
   "source": [
    "Ask the user to input a year. Count how many seconds, minutes, hours, and days are left until Christmas of that year (assume that Christmas starts at 00:00 December 25th)\n",
    "\n",
    "* Use [``.strptime()``](https://www.geeksforgeeks.org/python-time-strptime-function/) to get the time object.\n",
    "* Use [``.mktime()``](https://www.geeksforgeeks.org/python-time-mktime-method/) to get the timestamp.\n",
    "* Subtract the current time from the time of Christmas\n",
    "* Use basic math to find seconds, minutes, hours, days until Christmas\n"
   ]
  },
  {
   "cell_type": "code",
   "execution_count": 64,
   "id": "171b794e-ca80-4b44-86ed-0c35f9de46b1",
   "metadata": {},
   "outputs": [
    {
     "name": "stdin",
     "output_type": "stream",
     "text": [
      " 2024\n"
     ]
    },
    {
     "name": "stdout",
     "output_type": "stream",
     "text": [
      "19.0 6.0 44.0 7.653384685516357\n"
     ]
    }
   ],
   "source": [
    "metai = input()\n",
    "kaledos = t.mktime(t.strptime(f\"{int(metai)}/12/24\", \"%Y/%m/%d\"))\n",
    "\n",
    "a = kaledos - t.time()\n",
    "days = a // (24*3600)\n",
    "remaining_seconds = a % (24*3600)\n",
    "hours = remaining_seconds // 3600\n",
    "remaining_seconds = remaining_seconds % 3600\n",
    "minutes = remaining_seconds // 60\n",
    "remaining_seconds = remaining_seconds % 60\n",
    "print (days, hours, minutes, remaining_seconds)"
   ]
  },
  {
   "cell_type": "markdown",
   "id": "86949447-f5df-4282-ba8c-70fbb19f9dcd",
   "metadata": {},
   "source": [
    "### 2. Getting the time with datetime. For this part use datetime library"
   ]
  },
  {
   "cell_type": "markdown",
   "id": "df698a1c-846b-4095-aa95-964b45c1c44a",
   "metadata": {},
   "source": [
    "Get and print todays:\n",
    "* date\n",
    "* date and time\n",
    "* time\n",
    "* weekday\n",
    "\n",
    "Use one line of code to get the ``dt.datetime.now()`` onject, and then use ``.strftime()`` to get different outputs as required above."
   ]
  },
  {
   "cell_type": "code",
   "execution_count": 76,
   "id": "0ec46a05-c23f-404c-b79f-d11c6e8600d6",
   "metadata": {},
   "outputs": [
    {
     "data": {
      "text/plain": [
       "'Wednesday'"
      ]
     },
     "execution_count": 76,
     "metadata": {},
     "output_type": "execute_result"
    }
   ],
   "source": [
    "date_and_time = dt.datetime.now()\n",
    "date = date_and_time.strftime(\"%Y-%m-%d\")\n",
    "date_time = date_and_time.strftime(\"%Y-%m-%d %H:%M\")\n",
    "time = date_and_time.strftime(\"%H:%M\")\n",
    "weekday = date_and_time.strftime(\"%A\")\n"
   ]
  },
  {
   "cell_type": "markdown",
   "id": "8d09898f-a59f-482c-9827-0758e414372a",
   "metadata": {},
   "source": [
    "Write a code to convert Year/Month/Day to Day of Year in Python."
   ]
  },
  {
   "cell_type": "code",
   "execution_count": 80,
   "id": "3dbd78a5-0c50-4149-a5d3-0c220258178c",
   "metadata": {},
   "outputs": [
    {
     "data": {
      "text/plain": [
       "'339'"
      ]
     },
     "execution_count": 80,
     "metadata": {},
     "output_type": "execute_result"
    }
   ],
   "source": [
    "a = dt.datetime.strptime(\"2024-12-04\", \"%Y-%m-%d\")\n",
    "a.strftime('%j')"
   ]
  },
  {
   "cell_type": "markdown",
   "id": "b50f0cb1-abd5-4a72-bb8e-4b75e002be02",
   "metadata": {},
   "source": [
    "Write a code to get the weekday of your birthday, and then calculate how many years, months, days have passed since that day."
   ]
  },
  {
   "cell_type": "code",
   "execution_count": 82,
   "id": "6e65d3d9-5f2f-454d-8fc1-a72ed6c3f9f3",
   "metadata": {},
   "outputs": [
    {
     "data": {
      "text/plain": [
       "'Saturday'"
      ]
     },
     "execution_count": 82,
     "metadata": {},
     "output_type": "execute_result"
    }
   ],
   "source": [
    "a = dt.datetime.strptime(\"1996-12-07\", \"%Y-%m-%d\")\n",
    "weekday = a.strftime(\"%A\")\n",
    "weekday\n"
   ]
  },
  {
   "cell_type": "markdown",
   "id": "65795ce8-a726-4fc1-90e3-017b606f2555",
   "metadata": {},
   "source": [
    "### 3. Timer"
   ]
  },
  {
   "cell_type": "markdown",
   "id": "0fcc5ceb-afe6-4d39-8ff7-311a66bf3441",
   "metadata": {},
   "source": [
    "Write a countdown function.\n",
    "\n",
    "* Ask user for input in seconds.\n",
    "* Ask the user to provide how many decimals to display when counting down.\n",
    "* Make a countdown in miliseconds.\n",
    "* Make the countdown appear on a single line (make values change on a single line). Use [``end='\\r'``](https://blog.finxter.com/how-to-overwrite-the-previous-print-to-stdout-in-python/) in the ``print()`` function"
   ]
  },
  {
   "cell_type": "code",
   "execution_count": 95,
   "id": "053ccbfa-ae24-46dc-b2e4-6167e814205c",
   "metadata": {},
   "outputs": [
    {
     "name": "stdout",
     "output_type": "stream",
     "text": [
      "0.01\n"
     ]
    }
   ],
   "source": [
    "def countdown(seconds, n):\n",
    "    for i in range(seconds*(10**n)):\n",
    "        print(f\"{(seconds-i/(10**n)):.5}\", end='\\r')\n",
    "        t.sleep(1/(10**n))\n",
    "    print (0)\n",
    "countdown(2,3)"
   ]
  }
 ],
 "metadata": {
  "kernelspec": {
   "display_name": "Python 3 (ipykernel)",
   "language": "python",
   "name": "python3"
  },
  "language_info": {
   "codemirror_mode": {
    "name": "ipython",
    "version": 3
   },
   "file_extension": ".py",
   "mimetype": "text/x-python",
   "name": "python",
   "nbconvert_exporter": "python",
   "pygments_lexer": "ipython3",
   "version": "3.12.7"
  }
 },
 "nbformat": 4,
 "nbformat_minor": 5
}
