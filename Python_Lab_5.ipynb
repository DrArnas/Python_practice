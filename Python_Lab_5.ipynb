{
  "cells": [
    {
      "cell_type": "markdown",
      "id": "9661feed",
      "metadata": {
        "id": "9661feed"
      },
      "source": [
        "## Programavimo įvado pratybos\n",
        "\n",
        "- Python komandoms prisiminti: ``https://www.w3schools.com/python/``\n",
        "- Naudingos Powershell komandos:\n",
        "\n",
        "    - `ls` - pažiūrėti katalogo turinį\n",
        "\n",
        "    - `md` - sukurti naują katalogą\n",
        "\n",
        "    - `cd` - pereiti į katalogą / iš katalogo\n",
        "\n",
        "    - `ni p5.py` - sukuria naują bylą vardu `p5.py`\n",
        "\n",
        "    - `python p5.py` - kompiliuoja Python programą\n",
        "\n",
        "    - `python p5.py arg` - kompiliuoja Python programą pateikiant argumentus"
      ]
    },
    {
      "cell_type": "markdown",
      "source": [
        "### A1\n",
        "\n",
        "Paprašykite įvesti skaičių. Pasinaudodami `while` ciklu atspausdinkite visus skaičius atbuline tvarka įskaitant 0.\n",
        "\n",
        "Pavyzdys:\n",
        "```\n",
        "Įveskite skaičių: 3\n",
        "\n",
        "3\n",
        "2\n",
        "1\n",
        "0\n",
        "```"
      ],
      "metadata": {
        "id": "NYM1pdbPwTVE"
      },
      "id": "NYM1pdbPwTVE"
    },
    {
      "cell_type": "code",
      "source": [],
      "metadata": {
        "id": "Z6OhGPIiwnwF"
      },
      "id": "Z6OhGPIiwnwF",
      "execution_count": null,
      "outputs": []
    },
    {
      "cell_type": "markdown",
      "id": "3f5df523",
      "metadata": {
        "heading_collapsed": true,
        "jp-MarkdownHeadingCollapsed": true,
        "id": "3f5df523"
      },
      "source": [
        "### A2\n",
        "\n",
        " Paprašykite įvesti žodį ir skaičių. Pasinaudodami ``while`` ciklu, atspausdinkite įvestą žodį įvestą skaičių kartų.  \n",
        "\n",
        "Pavyzdys:  \n",
        "\n",
        "```\n",
        "Įveskite žodį: Jonas\n",
        "Įveskite skaičių: 3\n",
        "\n",
        "Jonas\n",
        "Jonas\n",
        "Jonas\n",
        "```"
      ]
    },
    {
      "cell_type": "code",
      "execution_count": null,
      "id": "8aeef7a1",
      "metadata": {
        "hidden": true,
        "id": "8aeef7a1"
      },
      "outputs": [],
      "source": []
    },
    {
      "cell_type": "markdown",
      "source": [
        "### A3\n",
        "\n",
        "Parašykite programą kuri surinktų jūsų menamo eksperimento vertes.\n",
        "\n",
        "Programa turi paprašyti skaičiaus ir jį išsaugoti sąraše.\n",
        "\n",
        "Įvedinėkite vertes tol, kol jos įvedamos. `len(įvesta_vertė) > 0`.\n",
        "\n",
        "Suskaičiuokite įvestų verčių vidurkį dviejų skaičių po kablelio tikslumu."
      ],
      "metadata": {
        "id": "_r4-cG4wxN_m"
      },
      "id": "_r4-cG4wxN_m"
    },
    {
      "cell_type": "code",
      "source": [],
      "metadata": {
        "id": "bV1z6C5JyGze"
      },
      "id": "bV1z6C5JyGze",
      "execution_count": null,
      "outputs": []
    },
    {
      "cell_type": "markdown",
      "source": [
        "### A4\n",
        "\n",
        "Sugeneruokite žodyną, kuriame raktai (keys) būtų skaičiai nuo 1 iki n (n yra vartotojo įvestas skaičius), o vertės (values) - tų skaičių kvadratai. Naudokite `while` ciklą.\n",
        "\n",
        "Pavyzdžiui jei n = 3, žodynas turi atrodyti `{1:1, 2:4, 3:9}`.\n",
        "\n",
        "Užuomina: ``zodynas = {}`` sukuria naują tuščią žodyną.\n",
        "\n",
        "Prisiminkite:\n",
        "\n",
        "\n",
        "```\n",
        "zodynas = {\"raktas\":\"reiksme\"}  # naujo žodyno sukūrimas\n",
        "zodynas[\"raktas\"] = \"reiksme\"   # naujo įrašo sukūrimas"
      ],
      "metadata": {
        "id": "PsczjIG_zk02"
      },
      "id": "PsczjIG_zk02"
    },
    {
      "cell_type": "code",
      "source": [],
      "metadata": {
        "id": "dnXOWYRKz4BX"
      },
      "id": "dnXOWYRKz4BX",
      "execution_count": null,
      "outputs": []
    },
    {
      "cell_type": "markdown",
      "id": "9edec4d2",
      "metadata": {
        "jp-MarkdownHeadingCollapsed": true,
        "id": "9edec4d2"
      },
      "source": [
        "### A5\n",
        "\n",
        "Sukurkite naują tuščią žodyną su trijų žmonių vardais ir jų ūgiais. Žodyno raktas (``key``) turi būti vardas, o vertė (``values``) - ūgis. Pavyzdžiui, Jonas: 1.85, Gabija: 1.75, Erika: 1.60. Šioje užduotyje nebūtina naudoti ``input()`` funkcijos.\n"
      ]
    },
    {
      "cell_type": "code",
      "execution_count": null,
      "id": "e9dcb75f",
      "metadata": {
        "id": "e9dcb75f"
      },
      "outputs": [],
      "source": []
    },
    {
      "cell_type": "markdown",
      "id": "a38924b4",
      "metadata": {
        "jp-MarkdownHeadingCollapsed": true,
        "id": "a38924b4"
      },
      "source": [
        "### A6\n",
        "\n",
        "Iteruodami per žodyną, atspausdinkite jo turinį trijose eilutėse. Naudokite ``for`` ciklą.\n",
        "\n",
        "Pavyzdys:\n",
        "\n",
        "```\n",
        "vardas: Jonas, ūgis: 1.85\n",
        "vardas: Gabija, ūgis: 1.75\n",
        "vardas: Erika, ūgis: 1.60\n",
        "```"
      ]
    },
    {
      "cell_type": "code",
      "execution_count": null,
      "id": "48891221",
      "metadata": {
        "id": "48891221"
      },
      "outputs": [],
      "source": []
    },
    {
      "cell_type": "markdown",
      "id": "86784548",
      "metadata": {
        "jp-MarkdownHeadingCollapsed": true,
        "id": "86784548"
      },
      "source": [
        "### A7\n",
        "\n",
        "Atspausdinkite aukščiausio žmogaus vardą.\n",
        "\n",
        "Užuomina: Pirmiausia suraskite didžiausią ūgį. Tada suraskite šį ūgį atitinkantį vardą. Jums prireiks ``.values()`` ir ``.index()`` metodų, ir ``max()`` funkcijos."
      ]
    },
    {
      "cell_type": "code",
      "execution_count": null,
      "id": "7487e919",
      "metadata": {
        "id": "7487e919"
      },
      "outputs": [],
      "source": []
    },
    {
      "cell_type": "markdown",
      "id": "5465b090",
      "metadata": {
        "heading_collapsed": true,
        "jp-MarkdownHeadingCollapsed": true,
        "id": "5465b090"
      },
      "source": [
        "### A8\n",
        "\n",
        "Paklauskite ar norite pridėti naują įrašą į jūsų žodyną. Jei atsakymas \"taip\", paprašykite įvesti naują vardą ir naują ūgį. Pridekite šiuos duomenis į žodyną.\n",
        "\n",
        "Tuomet paklauskite ar norite pridėti dar vieną įrašą. Kartokite žodyno papildymą tol, kol pateiktas atsakymas bus \"taip\".\n",
        "\n",
        "Įvedus \"ne\", atspausdinkite žodyną taip kaip darėte ketvirtoje užduotyje.\n",
        "\n",
        "Pavyzdys:\n",
        "\n",
        "```\n",
        "Ar norite pridėti naują įrašą? (taip/ne): taip\n",
        "Įveskite vardą: Robert\n",
        "Įveskite ūgį: 2.74\n",
        "\n",
        "Ar norite pridėti naują įrašą? (taip/ne): taip\n",
        "Įveskite vardą: Chandra\n",
        "Įveskite ūgį: 0.55\n",
        "\n",
        "Ar norite pridėti naują įrašą? (taip/ne): ne\n",
        "\n",
        "Žodyno įrašai:\n",
        "vardas: Jonas, ūgis: 1.85\n",
        "vardas: Gabija, ūgis: 1.75\n",
        "vardas: Erika, ūgis: 1.60\n",
        "vardas: Robert, ūgis: 2.74\n",
        "vardas: Chandra, ūgis: 0.55\n",
        "```\n",
        "\n",
        "*Trivia: Robert Pershing Wadlow iš JAV ir Chandra Bahadur Dangi iš Nepalo buvo aukščiausias ir žemiausias pasaulio žmonės. Jie įrašyti į Gineso rekordų knygą.*"
      ]
    },
    {
      "cell_type": "code",
      "execution_count": null,
      "id": "5936c3ba",
      "metadata": {
        "hidden": true,
        "id": "5936c3ba"
      },
      "outputs": [],
      "source": []
    },
    {
      "cell_type": "markdown",
      "source": [
        "A9 ir A10 užduotims atlikti, atsisiųskite šį kodą į kompiuterį kaip `.py` failą. Atsidarykite Windows Terminal langą, ir paleiskite failą pateikiant sisteminius argumentus pvz. `python failas.py 100`."
      ],
      "metadata": {
        "id": "M3Qd-8951b0x"
      },
      "id": "M3Qd-8951b0x"
    },
    {
      "cell_type": "markdown",
      "id": "3e200bab",
      "metadata": {
        "heading_collapsed": true,
        "jp-MarkdownHeadingCollapsed": true,
        "id": "3e200bab"
      },
      "source": [
        "### A9\n",
        "\n",
        "Importuokite ``sys`` modulį. Nuskaitykite Powershell komandinė eilutės argumentus. Argumentus atspausdinkite vienoje eilutėje, atskirdami juos kableliu.\n",
        "\n",
        "Pavyzdys:\n",
        "\n",
        "```\n",
        "> python p5.py arg1 arg2 arg3\n",
        "\n",
        "Pateikti argumentai: arg1, arg2, arg3\n",
        "```\n",
        "\n",
        "Užuomina: iteruoti praleidžiant pirmą sąrašo elementą, naudokite ``for i in sarasas[1:]``\n",
        "\n",
        "Išbandykite:\n",
        "\n",
        "```\n",
        "import sys\n",
        "\n",
        "print(sys.argv)\n",
        "\n",
        "python p5.py arg1 arg2 arg3\n",
        "```"
      ]
    },
    {
      "cell_type": "code",
      "execution_count": null,
      "id": "4f666dc0",
      "metadata": {
        "hidden": true,
        "id": "4f666dc0"
      },
      "outputs": [],
      "source": []
    },
    {
      "cell_type": "markdown",
      "id": "f2eb3981",
      "metadata": {
        "heading_collapsed": true,
        "jp-MarkdownHeadingCollapsed": true,
        "id": "f2eb3981"
      },
      "source": [
        "### A 10\n",
        "\n",
        "Parašykite kodą, kuris nuskaitytų Powershell komandinės eilutės argumentus - skaičius ir patikrintų ar šie skaičiai yra pirminiai.\n",
        "\n",
        "Pseudokodas patikrinti ar skaičius `x` yra pirminis:\n",
        "\n",
        "```\n",
        "pirminis = true # pradinė hipotezė\n",
        "iteruoti i nuo 2 iki x/2:\n",
        "    patikrinti ar x dalijasi iš i be liekanos:\n",
        "    \tjei dalijasi, pirminis = false ir nutraukti iteraciją (break)\n",
        "```\n",
        "\n",
        "Pavyzdys:\n",
        "\n",
        "```\n",
        "> python p5.py 1 2 3 4 5 6 7\n",
        "\n",
        "Iš pateiktųjų skaičių 2, 3, 5, 7 yra pirminiai.\n",
        "```\n",
        "\n",
        "Patobulinkite šios užduoties kodą taip, kad programa patikrintų ar buvo pateiktas bent vienas skaičius, ar nepateikta visiškai.\n",
        "\n",
        "Pavyzdys:\n",
        "\n",
        "```\n",
        "> python p5.py\n",
        "\n",
        "Skaičių nepateikta\n",
        "```"
      ]
    },
    {
      "cell_type": "code",
      "execution_count": null,
      "id": "0010acc7",
      "metadata": {
        "hidden": true,
        "id": "0010acc7"
      },
      "outputs": [],
      "source": []
    },
    {
      "cell_type": "markdown",
      "id": "1b300a24",
      "metadata": {
        "heading_collapsed": true,
        "jp-MarkdownHeadingCollapsed": true,
        "id": "1b300a24"
      },
      "source": [
        "### B1\n",
        "\n",
        "Parašykite \"kartuvių\" žaidimą.\n",
        "\n",
        "Jums pateikta kodo dalis, atrenkanti vieną atsitiktinį anglišką žodį.\n",
        "\n",
        "Žaidimo eiga ir taisyklės:\n",
        "\n",
        "1) Pateikiam atrinkto žodžio \"paslėptą\" reprezentaciją. Pvz. jei žodis \"one\" pateikiam _ _ _ arba *** arba ### arba dar kažkaip.\n",
        "2) Spėliojant raides galima suklysti 10 kartų. Jei raidė yra, ją atidengiam (taip pat visus raidės pasikartojimus), pvz. spėjant `n` galėtume atidengti _ n _.\n",
        "3) Reikia sekti kokios raidės jau spėtos, ir perspėti, kad tokia raidė jau buvo spėta, jeigu pakartojame buvusį spėjimą.\n",
        "4) Spėti žodį galima vieną kartą. Atspėjus - žaidimas laimėtas, neatspėjus - pralaimėtas.\n",
        "5) Naudokite tik mažasias raides.\n",
        "6) Jei atidengiamos visos raidės nepasiekus 10 nesėkmingų bandymų - žaidimas laimimas."
      ]
    },
    {
      "cell_type": "code",
      "execution_count": null,
      "id": "fd01bf88",
      "metadata": {
        "hidden": true,
        "id": "fd01bf88"
      },
      "outputs": [],
      "source": [
        "import requests\n",
        "import random\n",
        "# Kodas kuris iš interneto atsiunčia, ir parenka vieną atsitiktinį anglišką žodį turintį daugiau nei 2 raides.\n",
        "# URL for a list of the 10,000 most common English words\n",
        "url = 'https://raw.githubusercontent.com/first20hours/google-10000-english/master/google-10000-english.txt'\n",
        "response = requests.get(url)\n",
        "common_words_list = response.text.splitlines()\n",
        "common_words_list = [word for word in common_words_list if len(word) > 2]\n",
        "\n",
        "zodis = random.choice(common_words_list)\n",
        "\n",
        "# Jūsų kodas toliau:\n",
        "\n"
      ]
    },
    {
      "cell_type": "markdown",
      "id": "0d3e1f2b",
      "metadata": {
        "id": "0d3e1f2b"
      },
      "source": [
        "## Sandbox"
      ]
    },
    {
      "cell_type": "code",
      "execution_count": null,
      "id": "604147f0",
      "metadata": {
        "id": "604147f0"
      },
      "outputs": [],
      "source": []
    },
    {
      "cell_type": "markdown",
      "id": "45ec25b9",
      "metadata": {
        "id": "45ec25b9"
      },
      "source": [
        "---"
      ]
    }
  ],
  "metadata": {
    "kernelspec": {
      "display_name": "Python 3",
      "name": "python3"
    },
    "language_info": {
      "codemirror_mode": {
        "name": "ipython",
        "version": 3
      },
      "file_extension": ".py",
      "mimetype": "text/x-python",
      "name": "python",
      "nbconvert_exporter": "python",
      "pygments_lexer": "ipython3",
      "version": "3.11.7"
    },
    "latex_envs": {
      "LaTeX_envs_menu_present": true,
      "autoclose": false,
      "autocomplete": true,
      "bibliofile": "biblio.bib",
      "cite_by": "apalike",
      "current_citInitial": 1,
      "eqLabelWithNumbers": true,
      "eqNumInitial": 1,
      "hotkeys": {
        "equation": "Ctrl-E",
        "itemize": "Ctrl-I"
      },
      "labels_anchors": false,
      "latex_user_defs": false,
      "report_style_numbering": false,
      "user_envs_cfg": false
    },
    "colab": {
      "provenance": [],
      "generative_ai_disabled": true
    }
  },
  "nbformat": 4,
  "nbformat_minor": 5
}